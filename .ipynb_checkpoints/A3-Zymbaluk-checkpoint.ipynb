{
 "cells": [
  {
   "cell_type": "markdown",
   "metadata": {},
   "source": [
    "# A3: A\\*, IDS, and Effective Branching Factor"
   ]
  },
  {
   "cell_type": "markdown",
   "metadata": {},
   "source": [
    "For this assignment, implement the Recursive Best-First Search\n",
    "implementation of the A\\* algorithm given in class.  Name this function `aStarSearch`.  Also in this notebook include your `iterativeDeepeningSearch` functions.  Define a new function named `ebf` that returns an estimate of the effective\n",
    "branching factor for a search algorithm applied to a search problem.\n",
    "\n",
    "So, the required functions are\n",
    "\n",
    "   - `aStarSearch(startState, actionsF, takeActionF, goalTestF, hF)`\n",
    "   - `iterativeDeepeningSearch(startState, goalState, actionsF, takeActionF, maxDepth)`\n",
    "   - `ebf(nNodes, depth, precision=0.01)`, returns number of nodes expanded and depth reached during a search.\n",
    "\n",
    "Apply `iterativeDeepeningSearch` and `aStarSearch` to several eight-tile sliding puzzle\n",
    "problems. For this you must include your implementations of these functions, from Assignment 2:\n",
    "\n",
    "  * `actionsF_8p(state)`: returns a list of up to four valid actions that can be applied in `state`. With each action include a step cost of 1. For example, if all four actions are possible from this state, return [('left', 1), ('right', 1), ('up', 1), ('down', 1)].\n",
    "  * `takeActionF_8p(state, action)`: return the state that results from applying `action` in `state` and the cost of the one step,\n",
    "  \n",
    "plus the following function for the eight-tile puzzle:\n",
    "\n",
    "  * `goalTestF_8p(state, goal)`\n",
    "  \n",
    "Compare their results by displayng\n",
    "solution path depth, number of nodes \n",
    "generated, and the effective branching factor, and discuss the results.  Do this by defining the following function that prints the table as shown in the example below.\n",
    "\n",
    "   - runExperiment(goalState1, goalState2, goalState3, [h1, h2, h3])\n",
    "   \n",
    "Define this function so it takes any number of $h$ functions in the list that is the fourth argument."
   ]
  },
  {
   "cell_type": "markdown",
   "metadata": {},
   "source": [
    "# Gobal variables and goalTest:"
   ]
  },
  {
   "cell_type": "code",
   "execution_count": 1,
   "metadata": {
    "code_folding": [
     0
    ],
    "collapsed": true
   },
   "outputs": [],
   "source": [
    "def goalTestF_8p(state, goal):\n",
    "    if state ==goal:\n",
    "        return True\n",
    "    else:\n",
    "        return False"
   ]
  },
  {
   "cell_type": "code",
   "execution_count": 2,
   "metadata": {
    "collapsed": true
   },
   "outputs": [],
   "source": [
    "num_nodes_a=0\n",
    "depth_level_a=0\n",
    "num_nodes_ids=0\n",
    "depth_level_ids=0"
   ]
  },
  {
   "cell_type": "markdown",
   "metadata": {},
   "source": [
    "# IDS Implementation From A2:"
   ]
  },
  {
   "cell_type": "code",
   "execution_count": 3,
   "metadata": {
    "code_folding": [
     0
    ],
    "collapsed": true
   },
   "outputs": [],
   "source": [
    "def iterativeDeepeningSearch(startState, goalState, actionsF, takeActionF, maxDepth):\n",
    "    global num_nodes_ids\n",
    "    global depth_level_ids\n",
    "    for depth in range(maxDepth):\n",
    "        depth_level_ids+=1\n",
    "        result = depthLimitedSearch(startState, goalState, actionsF, takeActionF, depth)\n",
    "        if result == \"failure\":\n",
    "            return \"failure\"\n",
    "        if (result != 'cutoff'):\n",
    "            result.insert(0,startState) \n",
    "            return result\n",
    "    return \"cutoff\""
   ]
  },
  {
   "cell_type": "code",
   "execution_count": 4,
   "metadata": {
    "code_folding": [
     0
    ],
    "collapsed": true
   },
   "outputs": [],
   "source": [
    "def depthLimitedSearch(state, goalState, actionsF, takeActionF, depthLimit):\n",
    "    global num_nodes_ids\n",
    "    global depth_level_ids\n",
    "    if(state == goalState):\n",
    "        return []\n",
    "    \n",
    "    if(depthLimit == 0):\n",
    "        return \"cutoff\"\n",
    "    \n",
    "    cutoffOccurred = False\n",
    "    \n",
    "    for action in actionsF(state):\n",
    "        num_nodes_ids+=1\n",
    "        childState,_ = takeActionF(state, action)\n",
    "        result = depthLimitedSearch(childState, goalState, actionsF, takeActionF, depthLimit-1)\n",
    "        if(result == \"cutoff\"):\n",
    "            cutoffOccurred = True\n",
    "            \n",
    "        elif(result != \"failure\"):\n",
    "            result.insert(0,childState)\n",
    "            return result\n",
    "    if(cutoffOccurred):\n",
    "        return \"cutoff\"\n",
    "    else:\n",
    "        return \"failure\""
   ]
  },
  {
   "cell_type": "code",
   "execution_count": 5,
   "metadata": {
    "code_folding": [
     0
    ],
    "collapsed": true
   },
   "outputs": [],
   "source": [
    "def actionsF_8p(state):\n",
    "    if (state[0]==0):\n",
    "        return [(\"right\",1),(\"down\",1)]\n",
    "    elif (state[1]==0):\n",
    "        return [(\"left\",1),(\"right\",1),(\"down\",1)]\n",
    "    elif (state[2]==0):\n",
    "        return [(\"left\",1),(\"down\",1)]\n",
    "    elif (state[3]==0):\n",
    "        return [(\"right\",1),(\"up\",1),(\"down\",1)]\n",
    "    elif (state[4]==0):\n",
    "        return [(\"left\",1),(\"right\",1),(\"up\",1),(\"down\",1)]\n",
    "    elif (state[5]==0):\n",
    "        return [(\"left\",1),(\"up\",1),(\"down\",1)]\n",
    "    elif (state[6]==0):\n",
    "        return [(\"right\",1),(\"up\",1)]\n",
    "    elif (state[7]==0):\n",
    "        return [(\"left\",1),(\"right\",1),(\"up\",1)]\n",
    "    elif (state[8]==0):\n",
    "        return [(\"left\",1),(\"up\",1)]"
   ]
  },
  {
   "cell_type": "code",
   "execution_count": 6,
   "metadata": {
    "code_folding": [
     0
    ],
    "collapsed": true
   },
   "outputs": [],
   "source": [
    "def takeActionF_8p(state, action):\n",
    "    newState = state[:]\n",
    "    move,_= action\n",
    "    if (newState[0]==0):\n",
    "        if (action[0] == \"right\"):\n",
    "            newState[0] = newState[1]\n",
    "            newState[1] = 0\n",
    "        if (action[0] == \"down\"):\n",
    "            newState[0] = newState[3]\n",
    "            newState[3] = 0\n",
    "        return (newState,1) \n",
    "    elif (state[1]==0):\n",
    "        if (action[0] == \"right\"):\n",
    "            newState[1] = newState[2]\n",
    "            newState[2] = 0\n",
    "        if (action[0] == \"left\"):\n",
    "            newState[1] = newState[0]\n",
    "            newState[0] = 0\n",
    "        if (action[0] == \"down\"):\n",
    "            newState[1] = newState[4]\n",
    "            newState[4] = 0\n",
    "        return (newState,1)\n",
    "    elif (state[2]==0):\n",
    "        if (action[0] == \"left\"):\n",
    "            newState[2] = newState[1]\n",
    "            newState[1] = 0\n",
    "        if (action[0] == \"down\"):\n",
    "            newState[2] = newState[5]\n",
    "            newState[5] = 0\n",
    "        return (newState,1)\n",
    "    elif (state[3]==0):\n",
    "        if (action[0] == \"right\"):\n",
    "            newState[3] = newState[4]\n",
    "            newState[4] = 0\n",
    "        if (action[0] == \"down\"):\n",
    "            newState[3] = newState[6]\n",
    "            newState[6] = 0\n",
    "        if (action[0] == \"up\"):\n",
    "            newState[3] = newState[0]\n",
    "            newState[0] = 0\n",
    "        return (newState,1)\n",
    "    elif (state[4]==0):\n",
    "        if (action[0] == \"right\"):\n",
    "            newState[4] = newState[5]\n",
    "            newState[5] = 0\n",
    "        if (action[0] == \"left\"):\n",
    "            newState[4] = newState[3]\n",
    "            newState[3] = 0\n",
    "        if (action[0] == \"down\"):\n",
    "            newState[4] = newState[7]\n",
    "            newState[7] = 0\n",
    "        if (action[0] == \"up\"):\n",
    "            newState[4] = newState[1]\n",
    "            newState[1] = 0\n",
    "        return (newState,1)\n",
    "    elif (state[5]==0):\n",
    "        if (action[0] == \"left\"):\n",
    "            newState[5] = newState[4]\n",
    "            newState[4] = 0\n",
    "        if (action[0] == \"down\"):\n",
    "            newState[5] = newState[8]\n",
    "            newState[8] = 0\n",
    "        if (action[0] == \"up\"):\n",
    "            newState[5] = newState[2]\n",
    "            newState[2] = 0\n",
    "        return (newState,1)\n",
    "    elif (state[6]==0):\n",
    "        if (action[0] == \"right\"):\n",
    "            newState[6] = newState[7]\n",
    "            newState[7] = 0\n",
    "        if (action[0] == \"up\"):\n",
    "            newState[6] = newState[3]\n",
    "            newState[3] = 0\n",
    "        return (newState,1)\n",
    "    elif (state[7]==0):\n",
    "        if (action[0] == \"right\"):\n",
    "            newState[7] = newState[8]\n",
    "            newState[8] = 0\n",
    "        if (action[0] == \"left\"):\n",
    "            newState[7] = newState[6]\n",
    "            newState[6] = 0\n",
    "        if (action[0] == \"up\"):\n",
    "            newState[7] = newState[4]\n",
    "            newState[4] = 0\n",
    "        return (newState,1)\n",
    "    elif (state[8]==0):\n",
    "        if (action[0] == \"left\"):\n",
    "            newState[8] = newState[7]\n",
    "            newState[7] = 0\n",
    "        if (action[0] == \"up\"):\n",
    "            newState[8] = newState[5]\n",
    "            newState[5] = 0\n",
    "        return (newState,1)"
   ]
  },
  {
   "cell_type": "code",
   "execution_count": 7,
   "metadata": {
    "code_folding": [
     0
    ],
    "collapsed": true
   },
   "outputs": [],
   "source": [
    "def findBlank_8p(state):\n",
    "    if (state[0]==0):\n",
    "        return (0,0)\n",
    "    elif (state[1]==0):\n",
    "        return (0,1)\n",
    "    elif (state[2]==0):\n",
    "        return (0,2)\n",
    "    elif (state[3]==0):\n",
    "        return (1,0)\n",
    "    elif (state[4]==0):\n",
    "        return (1,1)\n",
    "    elif (state[5]==0):\n",
    "        return (1,2)\n",
    "    elif (state[6]==0):\n",
    "        return (2,0)\n",
    "    elif (state[7]==0):\n",
    "        return (2,1)\n",
    "    elif (state[8]==0):\n",
    "        return (2,2)"
   ]
  },
  {
   "cell_type": "markdown",
   "metadata": {},
   "source": [
    "# A* Search Implementation:"
   ]
  },
  {
   "cell_type": "code",
   "execution_count": 8,
   "metadata": {
    "code_folding": [
     0
    ],
    "collapsed": true
   },
   "outputs": [],
   "source": [
    "class Node:\n",
    "    def __init__(self, state, f=0, g=0 ,h=0):\n",
    "        self.state = state\n",
    "        self.f = f\n",
    "        self.g = g\n",
    "        self.h = h\n",
    "    def __repr__(self):\n",
    "        return \"Node(\" + repr(self.state) + \", f=\" + repr(self.f) + \\\n",
    "               \", g=\" + repr(self.g) + \", h=\" + repr(self.h) + \")\""
   ]
  },
  {
   "cell_type": "code",
   "execution_count": 35,
   "metadata": {
    "code_folding": [],
    "collapsed": true
   },
   "outputs": [],
   "source": [
    "def aStarSearch(startState, actionsF, takeActionF, goalTestF, hF):\n",
    "    h = hF(startState)\n",
    "    startNode = Node(state=startState, f=0+h, g=0, h=h)\n",
    "    return aStarSearchHelper(startNode, actionsF, takeActionF, goalTestF, hF, float('inf'))"
   ]
  },
  {
   "cell_type": "code",
   "execution_count": 36,
   "metadata": {
    "code_folding": [],
    "collapsed": true
   },
   "outputs": [],
   "source": [
    "def aStarSearchHelper(parentNode, actionsF, takeActionF, goalTestF, hF, fmax):\n",
    "    global num_nodes_a\n",
    "    global depth_level_a\n",
    "    \n",
    "    if goalTestF(parentNode.state):\n",
    "        return ([parentNode.state], parentNode.g)\n",
    "    ## Construct list of children nodes with f, g, and h values\n",
    "    actions = actionsF(parentNode.state)\n",
    "    if not actions:\n",
    "        return (\"failure\", float('inf'))\n",
    "    children = []\n",
    "    for action in actions:\n",
    "        num_nodes_a += 1\n",
    "        (childState,stepCost) = takeActionF(parentNode.state, action)\n",
    "        h = hF(childState)\n",
    "        g = parentNode.g + stepCost\n",
    "        f = max(h+g, parentNode.f)\n",
    "        childNode = Node(state=childState, f=f, g=g, h=h)\n",
    "        children.append(childNode)\n",
    "    while True:\n",
    "        # find best child\n",
    "        children.sort(key = lambda n: n.f) # sort by f value\n",
    "        bestChild = children[0]\n",
    "        if bestChild.f > fmax:\n",
    "            return (\"failure\",bestChild.f)\n",
    "        # next lowest f value\n",
    "        alternativef = children[1].f if len(children) > 1 else float('inf')\n",
    "        # expand best child, reassign its f value to be returned value\n",
    "        result,bestChild.f = aStarSearchHelper(bestChild, actionsF, takeActionF, goalTestF,\n",
    "                                            hF, min(fmax,alternativef))\n",
    "        if result is not \"failure\": \n",
    "            depth_level_a +=1\n",
    "            result.insert(0,parentNode.state)\n",
    "            return (result, bestChild.f)"
   ]
  },
  {
   "cell_type": "markdown",
   "metadata": {},
   "source": [
    "# EBF Implementation:"
   ]
  },
  {
   "cell_type": "code",
   "execution_count": 37,
   "metadata": {
    "code_folding": [
     0
    ],
    "collapsed": true
   },
   "outputs": [],
   "source": [
    "def ebf(nNodes, depth, precision=0.01):\n",
    "    if depth == 0:\n",
    "        return nNodes\n",
    "    \n",
    "    bUpper=0\n",
    "    bLower=0\n",
    "    nodeNum=0\n",
    "    \n",
    "    #find an upper and a lower bound (incremented by ten)\n",
    "    while nodeNum<nNodes:\n",
    "        bLower = bUpper\n",
    "        nodeNum = bCalculator(depth,bUpper)\n",
    "        bUpper+=10\n",
    "        \n",
    "    bLower-=10\n",
    "    bUpper-=10\n",
    "\n",
    "    #if numNodes is within the precision range, return your lower bound\n",
    "    if ((nNodes-precision)<=nodeNum<=(nNodes+precision)):\n",
    "        return bLower\n",
    "    \n",
    "    #else perform binary search to narrow your number until it is within range\n",
    "    while (not ((nNodes-precision)<=nodeNum<=(nNodes+precision))):\n",
    "        bMiddle = (bLower+bUpper)/2                               #finds middle point between bounds\n",
    "        nodeNum = bCalculator(depth,bMiddle)                       #gets result of b equation\n",
    "        if ((nNodes-precision)<=nodeNum<=(nNodes+precision)):     #checks if in range\n",
    "            return bMiddle\n",
    "        if nodeNum>nNodes:                                        #sets upper bound to middle\n",
    "            bUpper = bMiddle\n",
    "        if nodeNum<nNodes:                                        #sets lower bound to middle\n",
    "            bLower = bMiddle"
   ]
  },
  {
   "cell_type": "code",
   "execution_count": 38,
   "metadata": {
    "collapsed": true
   },
   "outputs": [],
   "source": [
    "def bCalculator(depth,b):\n",
    "    return (1-(b**(depth+1)))/(1-b)"
   ]
  },
  {
   "cell_type": "markdown",
   "metadata": {},
   "source": [
    "# Heuristic Functions Implementation:"
   ]
  },
  {
   "cell_type": "markdown",
   "metadata": {},
   "source": [
    "## Heuristic Functions\n",
    "\n",
    "For `aStarSearch` use the following two heuristic functions, plus one more of your own design, for a total of three heuristic functions.\n",
    "\n",
    "  * `h1_8p(state, goal)`: $h(state, goal) = 0$, for all states $state$ and all goal states $goal$,\n",
    "  * `h2_8p(state, goal)`: $h(state, goal) = m$, where $m$ is the Manhattan distance that the blank is from its goal position,\n",
    "  * `h3_8p(state, goal)`: $h(state, goal) = ?$, that you define.  It must be admissible, and not constant for all states."
   ]
  },
  {
   "cell_type": "code",
   "execution_count": 39,
   "metadata": {
    "code_folding": [
     0
    ],
    "collapsed": true
   },
   "outputs": [],
   "source": [
    "def h1_8p(state, goal):\n",
    "    return 0"
   ]
  },
  {
   "cell_type": "code",
   "execution_count": 40,
   "metadata": {
    "code_folding": [
     0
    ],
    "collapsed": true
   },
   "outputs": [],
   "source": [
    "def h2_8p(state, goal):\n",
    "    return manhattan(state,goal,0)"
   ]
  },
  {
   "cell_type": "code",
   "execution_count": null,
   "metadata": {
    "collapsed": true
   },
   "outputs": [],
   "source": []
  },
  {
   "cell_type": "code",
   "execution_count": 41,
   "metadata": {
    "code_folding": [],
    "collapsed": true
   },
   "outputs": [],
   "source": [
    "def manhattan(state, goal,item):\n",
    "    firstP = getCoordinate(state, item) #get first coordinate\n",
    "    secondP = getCoordinate(goal,item) #get second coordinate\n",
    "    return abs(firstP[0]-secondP[0])+abs(firstP[1]-secondP[1]) #return manhattan distance |x1-x2|+|y1-y2|\n",
    "    "
   ]
  },
  {
   "cell_type": "code",
   "execution_count": 42,
   "metadata": {
    "code_folding": [
     0
    ],
    "collapsed": true
   },
   "outputs": [],
   "source": [
    "def getCoordinate(state, item):\n",
    "    index = state.index(item)\n",
    "    if index==0:\n",
    "        return [0,0]\n",
    "    if index==1:\n",
    "        return [0,1]\n",
    "    if index==2:\n",
    "        return [0,2]\n",
    "    if index==3:\n",
    "        return [1,0]\n",
    "    if index==4:\n",
    "        return [1,1]\n",
    "    if index==5:\n",
    "        return [1,2]\n",
    "    if index==6:\n",
    "        return [2,0]\n",
    "    if index==7:\n",
    "        return [2,1]\n",
    "    if index==8:\n",
    "        return [2,2]"
   ]
  },
  {
   "cell_type": "markdown",
   "metadata": {},
   "source": [
    "# runExperiment implementation:"
   ]
  },
  {
   "cell_type": "code",
   "execution_count": 88,
   "metadata": {},
   "outputs": [],
   "source": [
    "def runExperiment(goalState1, goalState2, goalState3, functionlist):\n",
    "    global num_nodes_a\n",
    "    global depth_level_a\n",
    "    num_nodes_a = 0\n",
    "    depth_level_a = 0\n",
    "    startState = [1,2,3,4,0,5,6,7,8]\n",
    "    \n",
    "    #do first\n",
    "    print(\"  [1, 2, 3, 4, 0, 5, 6, 7, 8]\")\n",
    "    print(\"Algorithm    Depth  Nodes  EBF \")\n",
    "    for func in functionlist:\n",
    "        num_nodes_a = 0\n",
    "        depth_level_a = 0\n",
    "        aStarSearch(startState,actionsF_8p, takeActionF_8p,\n",
    "                lambda s: goalTestF_8p(s, goalState3),\n",
    "                lambda s: func(s, goalState3))\n",
    "        print(\"a*H1           \"+str(num_nodes_a) + \"      \" +str(depth_level_a) + \"      \"+str(ebf(num_nodes_a,depth_level_a)))\n",
    "    return"
   ]
  },
  {
   "cell_type": "code",
   "execution_count": 89,
   "metadata": {
    "collapsed": true
   },
   "outputs": [],
   "source": [
    "gs1 = [1,2,3,4,0,5,6,7,8]\n",
    "gs2 = [1,2,3,4,5,8,6,0,7]\n",
    "gs3 = [1,0,3,4,5,8,2,6,7]"
   ]
  },
  {
   "cell_type": "code",
   "execution_count": 90,
   "metadata": {},
   "outputs": [
    {
     "name": "stdout",
     "output_type": "stream",
     "text": [
      "  [1, 2, 3, 4, 0, 5, 6, 7, 8]\n",
      "Algorithm    Depth  Nodes  EBF \n",
      "a*H1           643246      11      3.2627559639513493\n",
      "a*H1           100046      11      2.732592597603798\n"
     ]
    }
   ],
   "source": [
    "runExperiment(gs1, gs2, gs3, [h1_8p,h2_8p])"
   ]
  },
  {
   "cell_type": "code",
   "execution_count": null,
   "metadata": {
    "collapsed": true
   },
   "outputs": [],
   "source": []
  },
  {
   "cell_type": "markdown",
   "metadata": {},
   "source": [
    "## Comparison"
   ]
  },
  {
   "cell_type": "markdown",
   "metadata": {},
   "source": [
    "Apply all four algorithms (`iterativeDeepeningSearch` plus `aStarSearch` with the three heuristic\n",
    "functions) to three eight-tile puzzle problems with start state\n",
    "\n",
    "$$\n",
    "\\begin{array}{ccc}\n",
    "1 & 2 & 3\\\\\n",
    "4 & 0 & 5\\\\\n",
    "6 & 7 & 8\n",
    "\\end{array}\n",
    "$$\n",
    "\n",
    "and these three goal states.\n",
    "\n",
    "$$\n",
    "\\begin{array}{ccccccccccc}\n",
    "1 & 2 & 3  & ~~~~ & 1 & 2 & 3  &  ~~~~ & 1 & 0 &  3\\\\\n",
    "4 & 0 & 5  & & 4 & 5 & 8  & & 4 & 5 & 8\\\\\n",
    "6 & 7 & 8 &  & 6 & 0 & 7  & & 2 & 6 & 7\n",
    "\\end{array}\n",
    "$$"
   ]
  },
  {
   "cell_type": "markdown",
   "metadata": {},
   "source": [
    "Print a well-formatted table like the following.  Try to match this\n",
    "format. \n",
    "\n",
    "           [1, 2, 3, 4, 0, 5, 6, 7, 8]    [1, 2, 3, 4, 5, 8, 6, 0, 7]    [1, 0, 3, 4, 5, 8, 2, 6, 7] \n",
    "    Algorithm    Depth  Nodes  EBF              Depth  Nodes  EBF              Depth  Nodes  EBF          \n",
    "         IDS       0      0  0.000                3     43  3.086               11 225850  2.954         \n",
    "        A*h1       0      0  0.000                3    116  4.488               11 643246  3.263         \n",
    "        A*h2       0      0  0.000                3     51  3.297               11 100046  2.733         \n",
    "\n",
    "Of course you will have one more line for `h3`."
   ]
  },
  {
   "cell_type": "markdown",
   "metadata": {},
   "source": [
    "Insert your functions here."
   ]
  },
  {
   "cell_type": "code",
   "execution_count": null,
   "metadata": {
    "collapsed": true
   },
   "outputs": [],
   "source": [
    "# from A3mysolution import *"
   ]
  },
  {
   "cell_type": "markdown",
   "metadata": {},
   "source": [
    "First, some example output for the ebf function."
   ]
  },
  {
   "cell_type": "code",
   "execution_count": null,
   "metadata": {},
   "outputs": [],
   "source": [
    "ebf(10, 3)"
   ]
  },
  {
   "cell_type": "markdown",
   "metadata": {},
   "source": [
    "The smallest argument values should be a depth of 0, and 1 node."
   ]
  },
  {
   "cell_type": "code",
   "execution_count": null,
   "metadata": {},
   "outputs": [],
   "source": [
    "ebf(1, 0)"
   ]
  },
  {
   "cell_type": "code",
   "execution_count": null,
   "metadata": {},
   "outputs": [],
   "source": [
    "ebf(2, 1)"
   ]
  },
  {
   "cell_type": "code",
   "execution_count": 92,
   "metadata": {},
   "outputs": [
    {
     "data": {
      "text/plain": [
       "0.9999990463256836"
      ]
     },
     "execution_count": 92,
     "metadata": {},
     "output_type": "execute_result"
    }
   ],
   "source": [
    "ebf(2, 1, precision=0.000001)"
   ]
  },
  {
   "cell_type": "code",
   "execution_count": 91,
   "metadata": {},
   "outputs": [
    {
     "data": {
      "text/plain": [
       "11.275596916675568"
      ]
     },
     "execution_count": 91,
     "metadata": {},
     "output_type": "execute_result"
    }
   ],
   "source": [
    "ebf(200000, 5)"
   ]
  },
  {
   "cell_type": "code",
   "execution_count": null,
   "metadata": {},
   "outputs": [],
   "source": [
    "ebf(200000, 50)"
   ]
  },
  {
   "cell_type": "markdown",
   "metadata": {},
   "source": [
    "Here is a simple example using our usual simple graph search."
   ]
  },
  {
   "cell_type": "code",
   "execution_count": null,
   "metadata": {
    "collapsed": true
   },
   "outputs": [],
   "source": [
    "def actionsF_simple(state):\n",
    "    succs = {'a': ['b', 'c'], 'b':['a'], 'c':['h'], 'h':['i'], 'i':['j', 'k', 'l'], 'k':['z']}\n",
    "    return [(s, 1) for s in succs.get(state, [])]\n",
    "\n",
    "def takeActionF_simple(state, action):\n",
    "    return action\n",
    "\n",
    "def goalTestF_simple(state, goal):\n",
    "    return state == goal\n",
    "\n",
    "def h_simple(state, goal):\n",
    "    return 1"
   ]
  },
  {
   "cell_type": "code",
   "execution_count": null,
   "metadata": {},
   "outputs": [],
   "source": [
    "actions = actionsF_simple('a')\n",
    "actions"
   ]
  },
  {
   "cell_type": "code",
   "execution_count": null,
   "metadata": {},
   "outputs": [],
   "source": [
    "takeActionF_simple('a', actions[0])"
   ]
  },
  {
   "cell_type": "code",
   "execution_count": null,
   "metadata": {},
   "outputs": [],
   "source": [
    "goalTestF_simple('a', 'a')"
   ]
  },
  {
   "cell_type": "code",
   "execution_count": null,
   "metadata": {},
   "outputs": [],
   "source": [
    "h_simple('a', 'z')"
   ]
  },
  {
   "cell_type": "code",
   "execution_count": null,
   "metadata": {},
   "outputs": [],
   "source": [
    "iterativeDeepeningSearch('a', 'z', actionsF_simple, takeActionF_simple, 10)"
   ]
  },
  {
   "cell_type": "code",
   "execution_count": null,
   "metadata": {},
   "outputs": [],
   "source": [
    "aStarSearch('a',actionsF_simple, takeActionF_simple,\n",
    "            lambda s: goalTestF_simple(s, 'z'),\n",
    "            lambda s: h_simple(s, 'z'))\n",
    "print(num_nodes_a)\n",
    "print(depth_level_a)"
   ]
  },
  {
   "cell_type": "markdown",
   "metadata": {},
   "source": [
    "Download [A3grader.tar](http://www.cs.colostate.edu/~anderson/cs440/notebooks/A3grader.tar) and extract A3grader.py from it."
   ]
  },
  {
   "cell_type": "code",
   "execution_count": null,
   "metadata": {
    "collapsed": true
   },
   "outputs": [],
   "source": [
    "%run -i A3grader.py"
   ]
  },
  {
   "cell_type": "code",
   "execution_count": null,
   "metadata": {
    "collapsed": true
   },
   "outputs": [],
   "source": []
  }
 ],
 "metadata": {
  "anaconda-cloud": {},
  "kernelspec": {
   "display_name": "Python 3",
   "language": "python",
   "name": "python3"
  },
  "language_info": {
   "codemirror_mode": {
    "name": "ipython",
    "version": 3
   },
   "file_extension": ".py",
   "mimetype": "text/x-python",
   "name": "python",
   "nbconvert_exporter": "python",
   "pygments_lexer": "ipython3",
   "version": "3.6.1"
  }
 },
 "nbformat": 4,
 "nbformat_minor": 1
}
