{
 "cells": [
  {
   "cell_type": "markdown",
   "metadata": {},
   "source": [
    "# Creating an AI for Banqi, a Random Chess Variant"
   ]
  },
  {
   "cell_type": "markdown",
   "metadata": {},
   "source": [
    "*Jared Zymbaluk, email: jrzymbaluk@gmail.com*\n",
    "\n",
    "*Kory Clark, email: korysam111495@gmail.com*\n",
    " \n",
    "*Sam Maxwell, email: smaxwellmessages@gmail.com*\n",
    " \n",
    "*December, 2017*"
   ]
  },
  {
   "cell_type": "markdown",
   "metadata": {},
   "source": [
    "## Introduction"
   ]
  },
  {
   "cell_type": "markdown",
   "metadata": {},
   "source": [
    "During this semester, in addition to CS 440, we also took CS 414. In this class we were introduced the chess variant Banqi. \n",
    "This game is similar to chess in some ways, but it comes with one big difference. At the start of the game, all of the pieces are randomized and laid onto the board facedown. Therefore the players have no idea about the state of the board until they actually start playing it. This led us to think that creating an AI for this game would be very interesting. In typical chess a player can determine the state of the board right at the start, and immediatly make plans based on the opponent's moves, it's own position, etc. In Banqi however, the players have to adapt and change strategy, continually learning and evaluating moves as the game plays out. This is our attempt at creating an adaptable, flexible Banqi AI.\n",
    "\n",
    "Our rules of Banqi (there are many different versions of the rules) are as follows:\n",
    "\n",
    "\n",
    "-The 32 pieces are randomized and laid face down on a 4x8 board. Players choose white or black to start.\n",
    "\n",
    "\n",
    "-A player can either flip a piece, capture an opponents piece, or move a piece to an empy, adjacent square.\n",
    "\n",
    "\n",
    "-Pieces can move 1 square in any direction (up, down, left, right), as long as that square is not occupied by another piece\n",
    "\n",
    "\n",
    "-Pieces can move into a square containing an opponent's piece, capturing it and removing it from play forever, as long as that piece is eligible to be captured\n",
    "\n",
    "\n",
    "-The rules for pieces and capturing are as follows:\n",
    "\n",
    "    -There are 7 types of pieces, each with a corresponding power level\n",
    "    -The types and power levels are as follows: Cannon 0, Soldier 1, Horse 2, Chariot 3, elephant 4, advisor 5, general 6\n",
    "    -each player gets 2 cannons, 5 soldiers, 2 horses, 2 chariots, 2 elephants, 2 advisors, and 1 general\n",
    "    -Pieces can only capture other pieces with equal or lesser power, with a few exceptions\n",
    "    -Cannons can capture any piece, making them very valuable\n",
    "    -Soldiers can capture generals, making them expendable, but also important.\n",
    "    \n",
    "    \n",
    "The work was divided as follows:\n",
    "    \n",
    "    -Kory: determined class and method structure. Did research with stochastic negamax. Helped write report\n",
    "\n",
    "    -Sam: Helped tune negamax algorithms determing what a valuable move was. Helped write report\n",
    "    \n",
    "    -Jared Determined class and method structure, tuned megamax algorithms. Wrote actual code, helped write report\n",
    "    \n",
    "    \n",
    "Summary of important methods:\n",
    "    \n",
    "    -createGame: create a list, adds pieces, randomizes them, and adds them to the list, returns the list\n",
    "    \n",
    "    -getMoves: Gets all of the moves for a given color\n",
    "    \n",
    "    -negamaxIDSab: main negamax function iterative deepening search with alpha beta pruning\n",
    "    \n",
    "    -negamaxab: negamax helper function with alpha beta pruning\n",
    "    \n",
    "    -playGame: plays game that pits a real person against the AI\n",
    "    \n",
    "    \n",
    "The result is a very aggressive, intelligent AI that you can play against!\n",
    "\n",
    "    "
   ]
  },
  {
   "cell_type": "markdown",
   "metadata": {},
   "source": [
    "## Methods"
   ]
  },
  {
   "cell_type": "markdown",
   "metadata": {},
   "source": [
    "Looking around on the internet, and other resources, there is not a lot of available information on Banqi. It is a fairly obscure game from the far east. Thus we mainly had to rely on our own minds, and trial and error to make a good AI. We had to determine a method for calculating the value of a move. Wether a capture is more valuable than moving a piece, or flipping a random one. The only information that we have are the pieces currently flipped. We decided early on that captures are the most valuable move in the game, depending on the piece you're capturing.The way we determined the power of a capture was the captured piece's power, versus your piece's power Therefore a power 4 piece capturing a level 1 piece has a value of negative three, therefore not terribly valuable. However a power 4 capturing a power 4 has a value of 0, which is a good move. This also causes any capture by the cannon (the piece that can capture any piece, but can also be captured by any piece) to have a positive capture value. This causes the AI to play fast and loose with it. Capturing every piece it can before it gets captured itself. We determined through trial and error of our own games that this is the best strategy with the cannon. We prioritize captures so much, that if a capture has a value of negative one or higher, the AI will automatically pick this as the best move. This results in the AI being very aggressive, keeping the user constantly retreating and on their toes\n",
    "\n",
    "Another challenge we faced was how to value the move of a flip. We thought long and hard about how to make the AI determine if a move, capture or flip was better. In the end we decided the value of a flip is a static two with no negamax branching applied. The reason no branching is applied is because this move is entirely random. The AI won't know what happens next after this move. We originally had the AI perform negamax on a flip, but this resulted in the AI flipping its most powerful pieces first, allowing it to win every time. Instead we set the value to two. We came to this number by adding up the power of all of the pieces (with the cannon represented as 7) which comes out to 28. Divide this by the number of pieces which is 7 to get the number 4. This means that on average flipping a piece of your color will result in a \"total power\" gain of 4, however the probability of flipping a piece that is your color is only fifty percent. So we had to divide by two. This means that the on average a flip will add two to your total power, so we set this value for flip\n",
    "\n",
    "The process for evaluating the value of a move is very simple. Essentially we add up the total power of your pieces, and subtract the total power of the opponent's pieces. Then we subtract one for every piece of yours that is \"in danger.\" In danger means that the piece is able to be captured by the opponent's piece. This accumulates based on the number of pieces that can capture your piece. For example, if a piece is moved into a position where it could be captured by two of the opponents pieces, this results in minus two to the total power.\n",
    "\n",
    "With these rules for evaluating moves. We believe that we have come up with a reasonable and aggressive method to determine the value of all three types of moves"
   ]
  },
  {
   "cell_type": "markdown",
   "metadata": {},
   "source": [
    "## Results"
   ]
  },
  {
   "cell_type": "markdown",
   "metadata": {},
   "source": [
    "We don't have any fancy plots or graphs to represent our results. Instead we have a fully working Banqi game that pits you against the opponent AI. In our play game scenario, the AI is white and you are black. However this can be changed by changing the color parameter of playGame from \"w\" to \"b\" Feel free to play it yourself!\n",
    "\n",
    "How to play:\n",
    "\n",
    "1) run all of the cells in banqi-ai.ipynb from top to bottom\n",
    "\n",
    "2) The AI always go first, after it goes you are prompted to take your turn. Rinse and repeat until the game is finished!\n",
    "\n",
    "3) if you would like to flip a piece, first type \"flip\" and press enter,then type the square of a piece you would like to flip (Ex. \"A1\") and press enter. Be careful to type \"flip\" exactly as is because it is case sensitive.\n",
    "\n",
    "4) If you would like to make a move, first type the square of the piece you would like to move (Ex. \"A1\") followed by enter.  Then type the square you would like to move it to (Ex. \"A2\") followed by enter. Be careful to type the letter in Capitals and exactly a shown on the board. The game may crash or malfunction if this is not followed, and you will have to start a new game.\n",
    "\n",
    "5) Be careful to ensure that your move is a legal one. While the AI will never make an invalid move, there is no error checking for the user. We considered this a proof of concept, and focused more on the AI then the user experience. So please play by the rules!\n",
    "\n",
    "6) Have fun!"
   ]
  },
  {
   "cell_type": "markdown",
   "metadata": {},
   "source": [
    "## Conclusions"
   ]
  },
  {
   "cell_type": "markdown",
   "metadata": {},
   "source": [
    "We learned that making AIs for stochastic games is very difficult. If we had more time we would love to focus on improving the user experience. Also an element of our AI that is not perfect is the flip evaluation. An issue with the AI is that it values a flip at the start of the game the same as at the end of the game. However, if the AI's most powerful piece has already been flipped, then the value of a flip in reality goes down. However the AI does not take this into account. This leads to the AI sometimes making silly flips late game rather than making a valuable move or capture. We would love to go back and make the evaluation of a flip dynamic rather than static, but time as always got in the way. We are still very proud of our product, and would consider it a competent Banqi player. Ultimately this was a great learning experience, and it has piqued our interest in both game logic, and AI in general."
   ]
  },
  {
   "cell_type": "markdown",
   "metadata": {},
   "source": [
    "### References"
   ]
  },
  {
   "cell_type": "markdown",
   "metadata": {},
   "source": [
    "* Chuck Anderson, and the code, lectures, and resources from http://www.cs.colostate.edu/~anderson/cs440/doku.php\n",
    "* http://woodpress.org/banqi/"
   ]
  }
 ],
 "metadata": {
  "kernelspec": {
   "display_name": "Python 3",
   "language": "python",
   "name": "python3"
  },
  "language_info": {
   "codemirror_mode": {
    "name": "ipython",
    "version": 3
   },
   "file_extension": ".py",
   "mimetype": "text/x-python",
   "name": "python",
   "nbconvert_exporter": "python",
   "pygments_lexer": "ipython3",
   "version": "3.6.1"
  }
 },
 "nbformat": 4,
 "nbformat_minor": 1
}
