{
 "cells": [
  {
   "cell_type": "markdown",
   "metadata": {},
   "source": [
    "$\\newcommand{\\xv}{\\mathbf{x}}\n",
    "\\newcommand{\\Xv}{\\mathbf{X}}\n",
    "\\newcommand{\\yv}{\\mathbf{y}}\n",
    "\\newcommand{\\zv}{\\mathbf{z}}\n",
    "\\newcommand{\\av}{\\mathbf{a}}\n",
    "\\newcommand{\\Wv}{\\mathbf{W}}\n",
    "\\newcommand{\\wv}{\\mathbf{w}}\n",
    "\\newcommand{\\tv}{\\mathbf{t}}\n",
    "\\newcommand{\\Tv}{\\mathbf{T}}\n",
    "\\newcommand{\\muv}{\\boldsymbol{\\mu}}\n",
    "\\newcommand{\\sigmav}{\\boldsymbol{\\sigma}}\n",
    "\\newcommand{\\phiv}{\\boldsymbol{\\phi}}\n",
    "\\newcommand{\\Phiv}{\\boldsymbol{\\Phi}}\n",
    "\\newcommand{\\Sigmav}{\\boldsymbol{\\Sigma}}\n",
    "\\newcommand{\\Lambdav}{\\boldsymbol{\\Lambda}}\n",
    "\\newcommand{\\half}{\\frac{1}{2}}\n",
    "\\newcommand{\\argmax}[1]{\\underset{#1}{\\operatorname{argmax}}}\n",
    "\\newcommand{\\argmin}[1]{\\underset{#1}{\\operatorname{argmin}}}$"
   ]
  },
  {
   "cell_type": "markdown",
   "metadata": {},
   "source": [
    "# Banqi AI"
   ]
  },
  {
   "cell_type": "markdown",
   "metadata": {},
   "source": [
    "Jared Zymbaluk"
   ]
  },
  {
   "cell_type": "code",
   "execution_count": 3,
   "metadata": {
    "collapsed": true
   },
   "outputs": [],
   "source": [
    "import numpy as np\n",
    "from random import shuffle\n",
    "import time\n",
    "import math\n",
    "import copy"
   ]
  },
  {
   "cell_type": "code",
   "execution_count": 4,
   "metadata": {
    "code_folding": [
     0
    ],
    "collapsed": true
   },
   "outputs": [],
   "source": [
    "class piece(object):\n",
    "    name = \"\"\n",
    "    power = \"\"\n",
    "    color = \"\"\n",
    "    flipped = False\n",
    "    def __init__(self, n, p, c):\n",
    "        self.name = n\n",
    "        self.power = p\n",
    "        self.color = c"
   ]
  },
  {
   "cell_type": "code",
   "execution_count": 5,
   "metadata": {
    "code_folding": [
     0
    ],
    "collapsed": true
   },
   "outputs": [],
   "source": [
    "class Move(object):\n",
    "    mType = \"\"\n",
    "    move = \"\"\n",
    "    power = \"\"\n",
    "    def __init__(self, t, m, p):\n",
    "        self.mType = t\n",
    "        self.move = m\n",
    "        self.power = p\n",
    "    "
   ]
  },
  {
   "cell_type": "code",
   "execution_count": 6,
   "metadata": {
    "collapsed": true
   },
   "outputs": [],
   "source": [
    "def getPower(m):\n",
    "    return m.power"
   ]
  },
  {
   "cell_type": "code",
   "execution_count": 7,
   "metadata": {
    "code_folding": [
     0
    ],
    "collapsed": true
   },
   "outputs": [],
   "source": [
    "def createGame():\n",
    "    game = []\n",
    "    \n",
    "    #add correct number of pieces to game board\n",
    "    ws = piece(\"soldier\",1,\"w\")\n",
    "    bs = piece(\"soldier\",1,\"b\")\n",
    "    for i in range(5):\n",
    "        game.append(copy.copy(ws))\n",
    "        game.append(copy.copy(bs))\n",
    "        \n",
    "    wh = piece(\"horse\", 2, \"w\")\n",
    "    bh = piece(\"horse\", 2, \"b\")\n",
    "    for i in range(2):\n",
    "        game.append(copy.copy(wh))\n",
    "        game.append(copy.copy(bh))\n",
    "    \n",
    "    wc = piece(\"chariot\", 3, \"w\")\n",
    "    bc = piece(\"chariot\", 3, \"b\")\n",
    "    for i in range(2):\n",
    "        game.append(copy.copy(wc))\n",
    "        game.append(copy.copy(bc))\n",
    "    \n",
    "    we = piece(\"elephant\", 4, \"w\")\n",
    "    be = piece(\"elephant\", 4, \"b\")\n",
    "    for i in range(2):\n",
    "        game.append(copy.copy(we))\n",
    "        game.append(copy.copy(be))\n",
    "        \n",
    "    wa = piece(\"advisor\", 5, \"w\")\n",
    "    ba = piece(\"advisor\", 5, \"b\")\n",
    "    for i in range(2):\n",
    "        game.append(copy.copy(wa))\n",
    "        game.append(copy.copy(ba))\n",
    "        \n",
    "    wg = piece(\"general\", 6, \"w\")\n",
    "    bg = piece(\"general\", 6, \"b\")\n",
    "    for i in range(1):\n",
    "        game.append(copy.copy(wg))\n",
    "        game.append(copy.copy(bg))\n",
    "        \n",
    "    wc = piece(\"cannon\", 0, \"w\")\n",
    "    bc = piece(\"cannon\", 0, \"b\")\n",
    "    for i in range(2):\n",
    "        game.append(copy.copy(wc))\n",
    "        game.append(copy.copy(bc))\n",
    "    \n",
    "    \n",
    "    shuffle (game)\n",
    "    shuffle (game)\n",
    "    shuffle (game)\n",
    "    return game"
   ]
  },
  {
   "cell_type": "code",
   "execution_count": 8,
   "metadata": {
    "code_folding": [
     0
    ],
    "collapsed": true
   },
   "outputs": [],
   "source": [
    "def printGame(game):\n",
    "    i = 1\n",
    "    print(\"1 | \", end = '')\n",
    "    for p in game:\n",
    "        \n",
    "        if isinstance(p, piece):\n",
    "            if p.flipped == False:\n",
    "                print(\"?  | \", end = '')\n",
    "            else:\n",
    "                print(p.color + str(p.power) + \" | \", end = '')\n",
    "            \n",
    "        else:\n",
    "            print(\"   | \", end = '')\n",
    "        \n",
    "        if i > 7 and i % 8 == 0 and i!= 32:\n",
    "                print(\"\\n\")\n",
    "                print(str((i // 8) + 1) + \" | \", end = '')\n",
    "        \n",
    "        i = i + 1\n",
    "        \n",
    "    print()   \n",
    "    print(\"    A    B    C    D    E    F    G    H\")\n",
    "        "
   ]
  },
  {
   "cell_type": "code",
   "execution_count": 9,
   "metadata": {
    "code_folding": [
     0
    ],
    "collapsed": true
   },
   "outputs": [],
   "source": [
    "def getMoves(game, color):\n",
    "    i = 0;\n",
    "    moves = []\n",
    "    for p in game:\n",
    "        if isinstance(p, piece):\n",
    "            if p.flipped == False:\n",
    "                moves.append(Move(\"flip\",(\"flip\",i),-10))\n",
    "            else:\n",
    "                if p.color == color:\n",
    "                    check = []\n",
    "                    if i>0 and i%8!=0: check.append(i-1) #check left\n",
    "                    if i<31 and i%7!=0: check.append(i+1) #check right\n",
    "                    if i-8>=0: check.append(i-8) #check up\n",
    "                    if i+8<=31: check.append(i+8) #check down\n",
    "                        \n",
    "                    for c in check:\n",
    "                        if isinstance(game[c],piece):\n",
    "                            if game[c].flipped and game[c].color != color and (game[c].power <= p.power or p.power == 0 or (p.power == 1 and game[c].power==6)): #power is less, or is cannon\n",
    "                                m = Move(\"capture\",(i,c),game[c].power-p.power)\n",
    "                                moves.append(m)\n",
    "                        else:\n",
    "                            moves.append(Move(\"move\",(i,c),-11))             \n",
    "        i=i+1\n",
    "    return moves       "
   ]
  },
  {
   "cell_type": "code",
   "execution_count": 10,
   "metadata": {
    "code_folding": [
     0
    ],
    "collapsed": true
   },
   "outputs": [],
   "source": [
    "def makeMove(game, m):\n",
    "    mFrom, mTo = m.move\n",
    "    \n",
    "    gCopy = copy.deepcopy(game)\n",
    "    if m.mType == \"flip\":\n",
    "        gCopy[mTo].flipped = True\n",
    "        \n",
    "    else:\n",
    "        gCopy[mTo] = gCopy[mFrom]\n",
    "        gCopy[mFrom] = \" \"\n",
    "    return gCopy\n",
    "        \n",
    "    "
   ]
  },
  {
   "cell_type": "code",
   "execution_count": 11,
   "metadata": {
    "code_folding": [
     0
    ],
    "collapsed": true
   },
   "outputs": [],
   "source": [
    "def isOver(game,color):\n",
    "    for p in game:\n",
    "        if isinstance(p,piece):\n",
    "            if p.color !=color:\n",
    "                return False\n",
    "    return True"
   ]
  },
  {
   "cell_type": "code",
   "execution_count": 12,
   "metadata": {
    "code_folding": [
     0
    ],
    "collapsed": true
   },
   "outputs": [],
   "source": [
    "def score(game, color):\n",
    "    power = 0\n",
    "    oPower = 0\n",
    "    for p in game:\n",
    "        if isinstance(p,piece):\n",
    "            if p.color == color and p.flipped:\n",
    "                if p.power == 0:\n",
    "                    power = power + 7\n",
    "                else:\n",
    "                    power = power + p.power\n",
    "            if p.color != color and p.flipped:\n",
    "                if p.power == 0:\n",
    "                    oPower = oPower + 7\n",
    "                else:\n",
    "                    oPower = oPower + p.power\n",
    "    i=0\n",
    "    for g in game:\n",
    "        if isinstance(game[i],piece):\n",
    "            if game[i].color == color:\n",
    "                power = power - inDanger(game, color, i)\n",
    "            if game[i].color != color:\n",
    "                oPower = oPower - inDanger(game, color, i)\n",
    "        i=i+1\n",
    "                \n",
    "    return power-oPower"
   ]
  },
  {
   "cell_type": "code",
   "execution_count": 13,
   "metadata": {
    "code_folding": [
     0
    ],
    "collapsed": true
   },
   "outputs": [],
   "source": [
    "def inDanger(game, color, i):\n",
    "    check = []\n",
    "    if i>0 and i%8!=0: check.append(i-1) #check left\n",
    "    if i<31 and i%7!=0: check.append(i+1) #check right\n",
    "    if i-8>=0: check.append(i-8) #check up\n",
    "    if i+8<=31: check.append(i+8) #check down\n",
    "    penalty = 0                    \n",
    "    for c in check:\n",
    "        if isinstance(game[c],piece):\n",
    "            if game[c].flipped and game[c].color != color and (game[c].power >= game[i].power or game[c].power == 0 or (game[c].power == 1 and game[i].power==6)): #power is less, or is cannon\n",
    "                   penalty = penalty + 1\n",
    "    return penalty"
   ]
  },
  {
   "cell_type": "code",
   "execution_count": 14,
   "metadata": {
    "code_folding": [
     0
    ],
    "collapsed": true
   },
   "outputs": [],
   "source": [
    "def interpretSquare(square):\n",
    "    letter,number = list(square)\n",
    "    res = ord(letter)-ord('A')\n",
    "    res = res + ((int(number)-1)*8)\n",
    "    return res"
   ]
  },
  {
   "cell_type": "code",
   "execution_count": 23,
   "metadata": {
    "code_folding": [
     0
    ],
    "collapsed": true
   },
   "outputs": [],
   "source": [
    "def interpretMove(num):\n",
    "    if num == \"flip\":\n",
    "        return num\n",
    "    else:\n",
    "        res = \"\"\n",
    "        letter = \"\"\n",
    "        if num == 0 or num == 8 or num == 16 or num == 24:\n",
    "            letter = \"A\"\n",
    "        if num == 1 or num == 9 or num == 17 or num == 25:\n",
    "            letter = \"B\"\n",
    "        if num == 2 or num == 10 or num == 18 or num == 26:\n",
    "            letter = \"C\"\n",
    "        if num == 3 or num == 11 or num == 19 or num == 27:\n",
    "            letter = \"D\"\n",
    "        if num == 4 or num == 12 or num == 20 or num == 28:\n",
    "            letter = \"E\"\n",
    "        if num == 5 or num == 13 or num == 21 or num == 29:\n",
    "            letter = \"F\"\n",
    "        if num == 6 or num == 14 or num == 22 or num == 30:\n",
    "            letter = \"G\"\n",
    "        if num == 7 or num == 15 or num == 23 or num == 31:\n",
    "            letter = \"H\"\n",
    "        digit = (num//8)+1\n",
    "        return letter + str(digit)\n",
    "        \n",
    "        "
   ]
  },
  {
   "cell_type": "code",
   "execution_count": 24,
   "metadata": {
    "code_folding": [
     0
    ],
    "collapsed": true
   },
   "outputs": [],
   "source": [
    "def negamaxIDSab(game, depthLimit, color):\n",
    "    for depth in range(depthLimit):\n",
    "        bestValue,bestMove = negamaxab(game,depth,float(\"-inf\"),float(\"inf\"), color)\n",
    "        if bestValue == \"done\":\n",
    "            return bestValue,bestMove\n",
    "    return bestValue,bestMove"
   ]
  },
  {
   "cell_type": "code",
   "execution_count": 25,
   "metadata": {
    "code_folding": [
     0
    ],
    "collapsed": true
   },
   "outputs": [],
   "source": [
    "def negamaxab(game, depthLeft, alpha, beta, color):\n",
    "    opponentColor = \"\"\n",
    "    if color == \"w\":opponentColor = \"b\"\n",
    "    if color == \"b\":opponentColor = \"w\"\n",
    "    # If at terminal state or depth limit, return utility value and move None\n",
    "    if isOver(game, color) or depthLeft == 0:\n",
    "        return score(game,color), None\n",
    "    # Find best move and its value from current state\n",
    "    bestValue, bestMove = None, None\n",
    "    moves = getMoves(game, color)\n",
    "    shuffle(moves)\n",
    "    moves.sort(key=lambda x: x.power, reverse=True) #sorts list so HIGHEST score moves are first\n",
    "    if moves[0].power > -2:\n",
    "        return moves[0].power,moves[0]\n",
    "    for move in moves:\n",
    "        if move.mType == \"flip\":\n",
    "            value = 2\n",
    "        \n",
    "        else:\n",
    "            # Apply a move to current state\n",
    "            newBoard = makeMove(game,move)\n",
    "            # Use depth-first search to find eventual utility value and back it up.\n",
    "            #  Negate it because it will come back in context of next player\n",
    "            value, _ = negamaxab(newBoard, depthLeft-1, -beta, -alpha, opponentColor)   \n",
    "            # Remove the move from current state, to prepare for trying a different move\n",
    "            #game.unmakeMove(move)\n",
    "            if value is None:\n",
    "                continue\n",
    "            value = - value\n",
    "            #return early if best value is greater than beta\n",
    "            if value >= beta:\n",
    "                return value, bestMove\n",
    "            alpha = max(alpha,value)\n",
    "        #update best value\n",
    "        if bestValue is None or value > bestValue:\n",
    "                # Value for this move is better than moves tried so far from this state.\n",
    "                bestValue, bestMove = value, move\n",
    "        \n",
    "    return bestValue, bestMove"
   ]
  },
  {
   "cell_type": "code",
   "execution_count": 26,
   "metadata": {
    "code_folding": [
     0
    ],
    "collapsed": true
   },
   "outputs": [],
   "source": [
    "def playGame(game,color,depthLimit):\n",
    "    while not isOver(game,color):\n",
    "        score,move = negamaxIDSab(game,depthLimit, color)\n",
    "        if move == None :\n",
    "            print('move is None. Stopping.')\n",
    "            break\n",
    "        game = makeMove(game,move)\n",
    "        aifrom,aito = move.move\n",
    "        print(\"Your opponent made the move \" + interpretMove(aifrom) + \" \" + interpretMove(aito))\n",
    "        printGame(game)\n",
    "        print(\"\\n\")\n",
    "        if not isOver(game, color):\n",
    "            mfrom =\"\"\n",
    "            mto = \"\"\n",
    "            mfrom = input(\"What's your move?: \")\n",
    "            while mfrom != \"flip\" and len(mfrom)>2:\n",
    "                mfrom = input(\"Incorrect input What's your move?: \")\n",
    "            print()\n",
    "            if mfrom == \"flip\":\n",
    "                mto = input(\"Which piece?: \")\n",
    "                while len(mto) > 2:\n",
    "                    mto = input(\"Incorrect input which piece?: \")\n",
    "                m = Move(\"flip\",(mfrom,interpretSquare(mto)),-1)\n",
    "            else:\n",
    "                mto = input(\"To?: \")\n",
    "                while len(mto) > 2:\n",
    "                    mto = input(\"Incorrect input, to?: \")\n",
    "                m = Move(\"user\",(interpretSquare(mfrom),interpretSquare(mto)),-1)\n",
    "            game = makeMove(game,m)"
   ]
  },
  {
   "cell_type": "code",
   "execution_count": null,
   "metadata": {},
   "outputs": [
    {
     "name": "stdout",
     "output_type": "stream",
     "text": [
      "Your opponent made the move flip F3\n",
      "1 | ?  | ?  | ?  | ?  | ?  | ?  | ?  | ?  | \n",
      "\n",
      "2 | ?  | ?  | ?  | ?  | ?  | ?  | ?  | ?  | \n",
      "\n",
      "3 | ?  | ?  | ?  | ?  | ?  | b6 | ?  | ?  | \n",
      "\n",
      "4 | ?  | ?  | ?  | ?  | ?  | ?  | ?  | ?  | \n",
      "    A    B    C    D    E    F    G    H\n",
      "\n",
      "\n",
      "What's your move?: flip\n",
      "\n",
      "Which piece?: A1\n",
      "Your opponent made the move flip G3\n",
      "1 | b5 | ?  | ?  | ?  | ?  | ?  | ?  | ?  | \n",
      "\n",
      "2 | ?  | ?  | ?  | ?  | ?  | ?  | ?  | ?  | \n",
      "\n",
      "3 | ?  | ?  | ?  | ?  | ?  | b6 | b3 | ?  | \n",
      "\n",
      "4 | ?  | ?  | ?  | ?  | ?  | ?  | ?  | ?  | \n",
      "    A    B    C    D    E    F    G    H\n",
      "\n",
      "\n",
      "What's your move?: flip\n",
      "\n",
      "Which piece?: D1\n",
      "Your opponent made the move flip A2\n",
      "1 | b5 | ?  | ?  | b2 | ?  | ?  | ?  | ?  | \n",
      "\n",
      "2 | w1 | ?  | ?  | ?  | ?  | ?  | ?  | ?  | \n",
      "\n",
      "3 | ?  | ?  | ?  | ?  | ?  | b6 | b3 | ?  | \n",
      "\n",
      "4 | ?  | ?  | ?  | ?  | ?  | ?  | ?  | ?  | \n",
      "    A    B    C    D    E    F    G    H\n",
      "\n",
      "\n",
      "What's your move?: A1\n",
      "\n",
      "To?: A2\n",
      "Your opponent made the move flip B2\n",
      "1 |    | ?  | ?  | b2 | ?  | ?  | ?  | ?  | \n",
      "\n",
      "2 | b5 | w1 | ?  | ?  | ?  | ?  | ?  | ?  | \n",
      "\n",
      "3 | ?  | ?  | ?  | ?  | ?  | b6 | b3 | ?  | \n",
      "\n",
      "4 | ?  | ?  | ?  | ?  | ?  | ?  | ?  | ?  | \n",
      "    A    B    C    D    E    F    G    H\n",
      "\n",
      "\n",
      "What's your move?: A2\n",
      "\n",
      "To?: B2\n",
      "Your opponent made the move flip E3\n",
      "1 |    | ?  | ?  | b2 | ?  | ?  | ?  | ?  | \n",
      "\n",
      "2 |    | b5 | ?  | ?  | ?  | ?  | ?  | ?  | \n",
      "\n",
      "3 | ?  | ?  | ?  | ?  | w1 | b6 | b3 | ?  | \n",
      "\n",
      "4 | ?  | ?  | ?  | ?  | ?  | ?  | ?  | ?  | \n",
      "    A    B    C    D    E    F    G    H\n",
      "\n",
      "\n",
      "What's your move?: F3\n",
      "\n",
      "To?: E3\n",
      "Your opponent made the move flip E2\n",
      "1 |    | ?  | ?  | b2 | ?  | ?  | ?  | ?  | \n",
      "\n",
      "2 |    | b5 | ?  | ?  | b5 | ?  | ?  | ?  | \n",
      "\n",
      "3 | ?  | ?  | ?  | ?  | b6 |    | b3 | ?  | \n",
      "\n",
      "4 | ?  | ?  | ?  | ?  | ?  | ?  | ?  | ?  | \n",
      "    A    B    C    D    E    F    G    H\n",
      "\n",
      "\n",
      "What's your move?: flip\n",
      "\n",
      "Which piece?: C2\n",
      "Your opponent made the move C2 B2\n",
      "1 |    | ?  | ?  | b2 | ?  | ?  | ?  | ?  | \n",
      "\n",
      "2 |    | w5 |    | ?  | b5 | ?  | ?  | ?  | \n",
      "\n",
      "3 | ?  | ?  | ?  | ?  | b6 |    | b3 | ?  | \n",
      "\n",
      "4 | ?  | ?  | ?  | ?  | ?  | ?  | ?  | ?  | \n",
      "    A    B    C    D    E    F    G    H\n",
      "\n",
      "\n",
      "What's your move?: flip\n",
      "\n",
      "Which piece?: C1\n",
      "Your opponent made the move C1 D1\n",
      "1 |    | ?  |    | w0 | ?  | ?  | ?  | ?  | \n",
      "\n",
      "2 |    | w5 |    | ?  | b5 | ?  | ?  | ?  | \n",
      "\n",
      "3 | ?  | ?  | ?  | ?  | b6 |    | b3 | ?  | \n",
      "\n",
      "4 | ?  | ?  | ?  | ?  | ?  | ?  | ?  | ?  | \n",
      "    A    B    C    D    E    F    G    H\n",
      "\n",
      "\n",
      "What's your move?: flip\n",
      "\n",
      "Which piece?: D2\n",
      "Your opponent made the move D1 D2\n",
      "1 |    | ?  |    |    | ?  | ?  | ?  | ?  | \n",
      "\n",
      "2 |    | w5 |    | w0 | b5 | ?  | ?  | ?  | \n",
      "\n",
      "3 | ?  | ?  | ?  | ?  | b6 |    | b3 | ?  | \n",
      "\n",
      "4 | ?  | ?  | ?  | ?  | ?  | ?  | ?  | ?  | \n",
      "    A    B    C    D    E    F    G    H\n",
      "\n",
      "\n",
      "What's your move?: E2\n",
      "\n",
      "To?: D2\n",
      "Your opponent made the move flip H1\n",
      "1 |    | ?  |    |    | ?  | ?  | ?  | w3 | \n",
      "\n",
      "2 |    | w5 |    | b5 |    | ?  | ?  | ?  | \n",
      "\n",
      "3 | ?  | ?  | ?  | ?  | b6 |    | b3 | ?  | \n",
      "\n",
      "4 | ?  | ?  | ?  | ?  | ?  | ?  | ?  | ?  | \n",
      "    A    B    C    D    E    F    G    H\n",
      "\n",
      "\n",
      "What's your move?: D2\n",
      "\n",
      "To?: C2\n",
      "Your opponent made the move B2 C2\n",
      "1 |    | ?  |    |    | ?  | ?  | ?  | w3 | \n",
      "\n",
      "2 |    |    | w5 |    |    | ?  | ?  | ?  | \n",
      "\n",
      "3 | ?  | ?  | ?  | ?  | b6 |    | b3 | ?  | \n",
      "\n",
      "4 | ?  | ?  | ?  | ?  | ?  | ?  | ?  | ?  | \n",
      "    A    B    C    D    E    F    G    H\n",
      "\n",
      "\n"
     ]
    }
   ],
   "source": [
    "game = createGame()\n",
    "playGame(game,\"w\",2)"
   ]
  },
  {
   "cell_type": "code",
   "execution_count": null,
   "metadata": {
    "collapsed": true
   },
   "outputs": [],
   "source": []
  }
 ],
 "metadata": {
  "anaconda-cloud": {},
  "kernelspec": {
   "display_name": "Python 3",
   "language": "python",
   "name": "python3"
  },
  "language_info": {
   "codemirror_mode": {
    "name": "ipython",
    "version": 3
   },
   "file_extension": ".py",
   "mimetype": "text/x-python",
   "name": "python",
   "nbconvert_exporter": "python",
   "pygments_lexer": "ipython3",
   "version": "3.6.1"
  },
  "toc": {
   "nav_menu": {},
   "number_sections": true,
   "sideBar": true,
   "skip_h1_title": false,
   "toc_cell": false,
   "toc_position": {},
   "toc_section_display": "block",
   "toc_window_display": false
  }
 },
 "nbformat": 4,
 "nbformat_minor": 1
}
