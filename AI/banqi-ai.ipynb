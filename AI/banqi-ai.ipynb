{
 "cells": [
  {
   "cell_type": "markdown",
   "metadata": {},
   "source": [
    "$\\newcommand{\\xv}{\\mathbf{x}}\n",
    "\\newcommand{\\Xv}{\\mathbf{X}}\n",
    "\\newcommand{\\yv}{\\mathbf{y}}\n",
    "\\newcommand{\\zv}{\\mathbf{z}}\n",
    "\\newcommand{\\av}{\\mathbf{a}}\n",
    "\\newcommand{\\Wv}{\\mathbf{W}}\n",
    "\\newcommand{\\wv}{\\mathbf{w}}\n",
    "\\newcommand{\\tv}{\\mathbf{t}}\n",
    "\\newcommand{\\Tv}{\\mathbf{T}}\n",
    "\\newcommand{\\muv}{\\boldsymbol{\\mu}}\n",
    "\\newcommand{\\sigmav}{\\boldsymbol{\\sigma}}\n",
    "\\newcommand{\\phiv}{\\boldsymbol{\\phi}}\n",
    "\\newcommand{\\Phiv}{\\boldsymbol{\\Phi}}\n",
    "\\newcommand{\\Sigmav}{\\boldsymbol{\\Sigma}}\n",
    "\\newcommand{\\Lambdav}{\\boldsymbol{\\Lambda}}\n",
    "\\newcommand{\\half}{\\frac{1}{2}}\n",
    "\\newcommand{\\argmax}[1]{\\underset{#1}{\\operatorname{argmax}}}\n",
    "\\newcommand{\\argmin}[1]{\\underset{#1}{\\operatorname{argmin}}}$"
   ]
  },
  {
   "cell_type": "markdown",
   "metadata": {},
   "source": [
    "# Banqi AI"
   ]
  },
  {
   "cell_type": "markdown",
   "metadata": {},
   "source": [
    "Jared Zymbaluk"
   ]
  },
  {
   "cell_type": "code",
   "execution_count": 3,
   "metadata": {
    "collapsed": true
   },
   "outputs": [],
   "source": [
    "import numpy as np\n",
    "from random import shuffle\n",
    "import time\n",
    "import math\n",
    "import copy"
   ]
  },
  {
   "cell_type": "code",
   "execution_count": 4,
   "metadata": {
    "code_folding": [
     0
    ],
    "collapsed": true
   },
   "outputs": [],
   "source": [
    "class piece(object):\n",
    "    name = \"\"\n",
    "    power = \"\"\n",
    "    color = \"\"\n",
    "    flipped = False\n",
    "    def __init__(self, n, p, c):\n",
    "        self.name = n\n",
    "        self.power = p\n",
    "        self.color = c"
   ]
  },
  {
   "cell_type": "code",
   "execution_count": 5,
   "metadata": {
    "code_folding": [
     0
    ],
    "collapsed": true
   },
   "outputs": [],
   "source": [
    "class Move(object):\n",
    "    mType = \"\"\n",
    "    move = \"\"\n",
    "    power = \"\"\n",
    "    def __init__(self, t, m, p):\n",
    "        self.mType = t\n",
    "        self.move = m\n",
    "        self.power = p\n",
    "    "
   ]
  },
  {
   "cell_type": "code",
   "execution_count": 6,
   "metadata": {
    "collapsed": true
   },
   "outputs": [],
   "source": [
    "def getPower(m):\n",
    "    return m.power"
   ]
  },
  {
   "cell_type": "code",
   "execution_count": 7,
   "metadata": {
    "code_folding": [
     0
    ],
    "collapsed": true
   },
   "outputs": [],
   "source": [
    "def createGame():\n",
    "    game = []\n",
    "    \n",
    "    #add correct number of pieces to game board\n",
    "    ws = piece(\"soldier\",1,\"w\")\n",
    "    bs = piece(\"soldier\",1,\"b\")\n",
    "    for i in range(5):\n",
    "        game.append(copy.copy(ws))\n",
    "        game.append(copy.copy(bs))\n",
    "        \n",
    "    wh = piece(\"horse\", 2, \"w\")\n",
    "    bh = piece(\"horse\", 2, \"b\")\n",
    "    for i in range(2):\n",
    "        game.append(copy.copy(wh))\n",
    "        game.append(copy.copy(bh))\n",
    "    \n",
    "    wc = piece(\"chariot\", 3, \"w\")\n",
    "    bc = piece(\"chariot\", 3, \"b\")\n",
    "    for i in range(2):\n",
    "        game.append(copy.copy(wc))\n",
    "        game.append(copy.copy(bc))\n",
    "    \n",
    "    we = piece(\"elephant\", 4, \"w\")\n",
    "    be = piece(\"elephant\", 4, \"b\")\n",
    "    for i in range(2):\n",
    "        game.append(copy.copy(we))\n",
    "        game.append(copy.copy(be))\n",
    "        \n",
    "    wa = piece(\"advisor\", 5, \"w\")\n",
    "    ba = piece(\"advisor\", 5, \"b\")\n",
    "    for i in range(2):\n",
    "        game.append(copy.copy(wa))\n",
    "        game.append(copy.copy(ba))\n",
    "        \n",
    "    wg = piece(\"general\", 6, \"w\")\n",
    "    bg = piece(\"general\", 6, \"b\")\n",
    "    for i in range(1):\n",
    "        game.append(copy.copy(wg))\n",
    "        game.append(copy.copy(bg))\n",
    "        \n",
    "    wc = piece(\"cannon\", 0, \"w\")\n",
    "    bc = piece(\"cannon\", 0, \"b\")\n",
    "    for i in range(2):\n",
    "        game.append(copy.copy(wc))\n",
    "        game.append(copy.copy(bc))\n",
    "    \n",
    "    \n",
    "    shuffle (game)\n",
    "    shuffle (game)\n",
    "    shuffle (game)\n",
    "    return game"
   ]
  },
  {
   "cell_type": "code",
   "execution_count": 8,
   "metadata": {
    "code_folding": [
     0
    ],
    "collapsed": true
   },
   "outputs": [],
   "source": [
    "def printGame(game):\n",
    "    i = 1\n",
    "    print(\"1 | \", end = '')\n",
    "    for p in game:\n",
    "        \n",
    "        if isinstance(p, piece):\n",
    "            if p.flipped == False:\n",
    "                print(\"?  | \", end = '')\n",
    "            else:\n",
    "                print(p.color + str(p.power) + \" | \", end = '')\n",
    "            \n",
    "        else:\n",
    "            print(\"   | \", end = '')\n",
    "        \n",
    "        if i > 7 and i % 8 == 0 and i!= 32:\n",
    "                print(\"\\n\")\n",
    "                print(str((i // 8) + 1) + \" | \", end = '')\n",
    "        \n",
    "        i = i + 1\n",
    "        \n",
    "    print()   \n",
    "    print(\"    A    B    C    D    E    F    G    H\")\n",
    "        "
   ]
  },
  {
   "cell_type": "code",
   "execution_count": 9,
   "metadata": {
    "code_folding": [],
    "collapsed": true
   },
   "outputs": [],
   "source": [
    "def getMoves(game, color):\n",
    "    i = 0;\n",
    "    moves = []\n",
    "    for p in game:\n",
    "        if isinstance(p, piece):\n",
    "            if p.flipped == False:\n",
    "                moves.append(Move(\"flip\",(\"flip\",i),-10))\n",
    "            else:\n",
    "                if p.color == color:\n",
    "                    check = []\n",
    "                    if i>0 and i%8!=0: check.append(i-1) #check left\n",
    "                    if i<31 and i%7!=0: check.append(i+1) #check right\n",
    "                    if i-8>=0: check.append(i-8) #check up\n",
    "                    if i+8<=31: check.append(i+8) #check down\n",
    "                        \n",
    "                    for c in check:\n",
    "                        if isinstance(game[c],piece):\n",
    "                            if game[c].flipped and game[c].color != color and (game[c].power <= p.power or p.power == 0 or (p.power == 1 and game[c].power==6)): #power is less, or is cannon\n",
    "                                m = Move(\"capture\",(i,c),game[c].power-p.power)\n",
    "                                moves.append(m)\n",
    "                        else:\n",
    "                            moves.append(Move(\"move\",(i,c),-11))             \n",
    "        i=i+1\n",
    "    return moves       "
   ]
  },
  {
   "cell_type": "code",
   "execution_count": 10,
   "metadata": {
    "code_folding": [
     0
    ],
    "collapsed": true
   },
   "outputs": [],
   "source": [
    "def makeMove(game, m):\n",
    "    mFrom, mTo = m.move\n",
    "    \n",
    "    gCopy = copy.deepcopy(game)\n",
    "    if m.mType == \"flip\":\n",
    "        gCopy[mTo].flipped = True\n",
    "        \n",
    "    else:\n",
    "        gCopy[mTo] = gCopy[mFrom]\n",
    "        gCopy[mFrom] = \" \"\n",
    "    return gCopy\n",
    "        \n",
    "    "
   ]
  },
  {
   "cell_type": "code",
   "execution_count": 11,
   "metadata": {
    "code_folding": [
     0
    ],
    "collapsed": true
   },
   "outputs": [],
   "source": [
    "def isOver(game,color):\n",
    "    for p in game:\n",
    "        if isinstance(p,piece):\n",
    "            if p.color !=color:\n",
    "                return False\n",
    "    return True"
   ]
  },
  {
   "cell_type": "code",
   "execution_count": 12,
   "metadata": {
    "code_folding": [
     0
    ],
    "collapsed": true
   },
   "outputs": [],
   "source": [
    "def score(game, color):\n",
    "    power = 0\n",
    "    oPower = 0\n",
    "    for p in game:\n",
    "        if isinstance(p,piece):\n",
    "            if p.color == color and p.flipped:\n",
    "                if p.power == 0:\n",
    "                    power = power + 7\n",
    "                else:\n",
    "                    power = power + p.power\n",
    "            if p.color != color and p.flipped:\n",
    "                if p.power == 0:\n",
    "                    oPower = oPower + 7\n",
    "                else:\n",
    "                    oPower = oPower + p.power\n",
    "    i=0\n",
    "    for g in game:\n",
    "        if isinstance(game[i],piece):\n",
    "            if game[i].color == color:\n",
    "                power = power - inDanger(game, color, i)\n",
    "            if game[i].color != color:\n",
    "                oPower = oPower - inDanger(game, color, i)\n",
    "        i=i+1\n",
    "                \n",
    "    return power-oPower"
   ]
  },
  {
   "cell_type": "code",
   "execution_count": 13,
   "metadata": {
    "code_folding": [
     0
    ],
    "collapsed": true
   },
   "outputs": [],
   "source": [
    "def inDanger(game, color, i):\n",
    "    check = []\n",
    "    if i>0 and i%8!=0: check.append(i-1) #check left\n",
    "    if i<31 and i%7!=0: check.append(i+1) #check right\n",
    "    if i-8>=0: check.append(i-8) #check up\n",
    "    if i+8<=31: check.append(i+8) #check down\n",
    "    penalty = 0                    \n",
    "    for c in check:\n",
    "        if isinstance(game[c],piece):\n",
    "            if game[c].flipped and game[c].color != color and (game[c].power >= game[i].power or game[c].power == 0 or (game[c].power == 1 and game[i].power==6)): #power is less, or is cannon\n",
    "                   penalty = penalty + 1\n",
    "    return penalty"
   ]
  },
  {
   "cell_type": "code",
   "execution_count": 14,
   "metadata": {
    "code_folding": [
     0
    ],
    "collapsed": true
   },
   "outputs": [],
   "source": [
    "def interpretSquare(square):\n",
    "    letter,number = list(square)\n",
    "    res = ord(letter)-ord('A')\n",
    "    res = res + ((int(number)-1)*8)\n",
    "    return res"
   ]
  },
  {
   "cell_type": "code",
   "execution_count": 15,
   "metadata": {
    "code_folding": [
     0
    ],
    "collapsed": true
   },
   "outputs": [],
   "source": [
    "def interpretMove(num):\n",
    "    if num == \"flip\":\n",
    "        return num\n",
    "    else:\n",
    "        res = \"\"\n",
    "        digit = (num//8)+1\n",
    "        return str(digit)\n",
    "        \n",
    "        "
   ]
  },
  {
   "cell_type": "code",
   "execution_count": 16,
   "metadata": {
    "code_folding": [
     0
    ],
    "collapsed": true
   },
   "outputs": [],
   "source": [
    "def negamaxIDSab(game, depthLimit, color):\n",
    "    for depth in range(depthLimit):\n",
    "        bestValue,bestMove = negamaxab(game,depth,float(\"-inf\"),float(\"inf\"), color)\n",
    "        if bestValue == \"done\":\n",
    "            return bestValue,bestMove\n",
    "    return bestValue,bestMove"
   ]
  },
  {
   "cell_type": "code",
   "execution_count": 20,
   "metadata": {
    "code_folding": [],
    "collapsed": true
   },
   "outputs": [],
   "source": [
    "def negamaxab(game, depthLeft, alpha, beta, color):\n",
    "    opponentColor = \"\"\n",
    "    if color == \"w\":opponentColor = \"b\"\n",
    "    if color == \"b\":opponentColor = \"w\"\n",
    "    # If at terminal state or depth limit, return utility value and move None\n",
    "    if isOver(game, color) or depthLeft == 0:\n",
    "        return score(game,color), None\n",
    "    # Find best move and its value from current state\n",
    "    bestValue, bestMove = None, None\n",
    "    moves = getMoves(game, color)\n",
    "    shuffle(moves)\n",
    "    moves.sort(key=lambda x: x.power, reverse=True) #sorts list so HIGHEST score moves are first\n",
    "    if moves[0].power > -2:\n",
    "        return moves[0].power,moves[0]\n",
    "    for move in moves:\n",
    "        if move.mType == \"flip\":\n",
    "            value = 2\n",
    "        \n",
    "        else:\n",
    "            # Apply a move to current state\n",
    "            newBoard = makeMove(game,move)\n",
    "            # Use depth-first search to find eventual utility value and back it up.\n",
    "            #  Negate it because it will come back in context of next player\n",
    "            value, _ = negamaxab(newBoard, depthLeft-1, -beta, -alpha, opponentColor)   \n",
    "            # Remove the move from current state, to prepare for trying a different move\n",
    "            #game.unmakeMove(move)\n",
    "            if value is None:\n",
    "                continue\n",
    "            value = - value\n",
    "            #return early if best value is greater than beta\n",
    "            if value >= beta:\n",
    "                return value, bestMove\n",
    "            alpha = max(alpha,value)\n",
    "        #update best value\n",
    "        if bestValue is None or value > bestValue:\n",
    "                # Value for this move is better than moves tried so far from this state.\n",
    "                bestValue, bestMove = value, move\n",
    "        \n",
    "    return bestValue, bestMove"
   ]
  },
  {
   "cell_type": "code",
   "execution_count": 21,
   "metadata": {
    "code_folding": [
     0
    ],
    "collapsed": true
   },
   "outputs": [],
   "source": [
    "def playGame(game,color,depthLimit):\n",
    "    while not isOver(game,color):\n",
    "        score,move = negamaxIDSab(game,depthLimit, color)\n",
    "        if move == None :\n",
    "            print('move is None. Stopping.')\n",
    "            break\n",
    "        game = makeMove(game,move)\n",
    "        aifrom,aito = move.move\n",
    "        print(\"Your opponent made the move \" + interpretMove(aifrom) + \" \" + interpretMove(aito))\n",
    "        printGame(game)\n",
    "        print(\"\\n\")\n",
    "        if not isOver(game, color):\n",
    "            mfrom =\"\"\n",
    "            mto = \"\"\n",
    "            mfrom = input(\"What's your move?: \")\n",
    "            while mfrom != \"flip\" and len(mfrom)>2:\n",
    "                mfrom = input(\"Incorrect input What's your move?: \")\n",
    "            print()\n",
    "            if mfrom == \"flip\":\n",
    "                mto = input(\"Which piece?: \")\n",
    "                while len(mto) > 2:\n",
    "                    mto = input(\"Incorrect input which piece?: \")\n",
    "                m = Move(\"flip\",(mfrom,interpretSquare(mto)),-1)\n",
    "            else:\n",
    "                mto = input(\"To?: \")\n",
    "                while len(mto) > 2:\n",
    "                    mto = input(\"Incorrect input, to?: \")\n",
    "                m = Move(\"user\",(interpretSquare(mfrom),interpretSquare(mto)),-1)\n",
    "            game = makeMove(game,m)"
   ]
  },
  {
   "cell_type": "code",
   "execution_count": 22,
   "metadata": {},
   "outputs": [
    {
     "name": "stdout",
     "output_type": "stream",
     "text": [
      "Your opponent made the move flip 4\n",
      "1 | ?  | ?  | ?  | ?  | ?  | ?  | ?  | ?  | \n",
      "\n",
      "2 | ?  | ?  | ?  | ?  | ?  | ?  | ?  | ?  | \n",
      "\n",
      "3 | ?  | ?  | ?  | ?  | ?  | ?  | ?  | ?  | \n",
      "\n",
      "4 | ?  | ?  | ?  | ?  | ?  | b0 | ?  | ?  | \n",
      "    A    B    C    D    E    F    G    H\n",
      "\n",
      "\n",
      "What's your move?: flip\n",
      "\n",
      "Which piece?: H4\n",
      "Your opponent made the move flip 1\n",
      "1 | ?  | ?  | ?  | ?  | ?  | ?  | ?  | b5 | \n",
      "\n",
      "2 | ?  | ?  | ?  | ?  | ?  | ?  | ?  | ?  | \n",
      "\n",
      "3 | ?  | ?  | ?  | ?  | ?  | ?  | ?  | ?  | \n",
      "\n",
      "4 | ?  | ?  | ?  | ?  | ?  | b0 | ?  | b5 | \n",
      "    A    B    C    D    E    F    G    H\n",
      "\n",
      "\n",
      "What's your move?: flip\n",
      "\n",
      "Which piece?: B2\n",
      "Your opponent made the move flip 3\n",
      "1 | ?  | ?  | ?  | ?  | ?  | ?  | ?  | b5 | \n",
      "\n",
      "2 | ?  | w1 | ?  | ?  | ?  | ?  | ?  | ?  | \n",
      "\n",
      "3 | ?  | ?  | ?  | ?  | ?  | ?  | w0 | ?  | \n",
      "\n",
      "4 | ?  | ?  | ?  | ?  | ?  | b0 | ?  | b5 | \n",
      "    A    B    C    D    E    F    G    H\n",
      "\n",
      "\n",
      "What's your move?: flip\n",
      "\n",
      "Which piece?: G4\n",
      "Your opponent made the move 3 4\n",
      "1 | ?  | ?  | ?  | ?  | ?  | ?  | ?  | b5 | \n",
      "\n",
      "2 | ?  | w1 | ?  | ?  | ?  | ?  | ?  | ?  | \n",
      "\n",
      "3 | ?  | ?  | ?  | ?  | ?  | ?  |    | ?  | \n",
      "\n",
      "4 | ?  | ?  | ?  | ?  | ?  | b0 | w0 | b5 | \n",
      "    A    B    C    D    E    F    G    H\n",
      "\n",
      "\n",
      "What's your move?: F4\n",
      "\n",
      "To?: G4\n",
      "Your opponent made the move flip 2\n",
      "1 | ?  | ?  | ?  | ?  | ?  | ?  | ?  | b5 | \n",
      "\n",
      "2 | ?  | w1 | ?  | ?  | ?  | ?  | b1 | ?  | \n",
      "\n",
      "3 | ?  | ?  | ?  | ?  | ?  | ?  |    | ?  | \n",
      "\n",
      "4 | ?  | ?  | ?  | ?  | ?  |    | b0 | b5 | \n",
      "    A    B    C    D    E    F    G    H\n",
      "\n",
      "\n",
      "What's your move?: flip\n",
      "\n",
      "Which piece?: F3\n",
      "Your opponent made the move flip 4\n",
      "1 | ?  | ?  | ?  | ?  | ?  | ?  | ?  | b5 | \n",
      "\n",
      "2 | ?  | w1 | ?  | ?  | ?  | ?  | b1 | ?  | \n",
      "\n",
      "3 | ?  | ?  | ?  | ?  | ?  | w3 |    | ?  | \n",
      "\n",
      "4 | ?  | ?  | w1 | ?  | ?  |    | b0 | b5 | \n",
      "    A    B    C    D    E    F    G    H\n",
      "\n",
      "\n",
      "What's your move?: G4\n",
      "\n",
      "To?: G3\n",
      "Your opponent made the move flip 4\n",
      "1 | ?  | ?  | ?  | ?  | ?  | ?  | ?  | b5 | \n",
      "\n",
      "2 | ?  | w1 | ?  | ?  | ?  | ?  | b1 | ?  | \n",
      "\n",
      "3 | ?  | ?  | ?  | ?  | ?  | w3 | b0 | ?  | \n",
      "\n",
      "4 | ?  | ?  | w1 | w2 | ?  |    |    | b5 | \n",
      "    A    B    C    D    E    F    G    H\n",
      "\n",
      "\n",
      "What's your move?: G3\n",
      "\n",
      "To?: G4\n",
      "Your opponent made the move flip 1\n",
      "1 | ?  | ?  | ?  | w1 | ?  | ?  | ?  | b5 | \n",
      "\n",
      "2 | ?  | w1 | ?  | ?  | ?  | ?  | b1 | ?  | \n",
      "\n",
      "3 | ?  | ?  | ?  | ?  | ?  | w3 |    | ?  | \n",
      "\n",
      "4 | ?  | ?  | w1 | w2 | ?  |    | b0 | b5 | \n",
      "    A    B    C    D    E    F    G    H\n",
      "\n",
      "\n",
      "What's your move?: G4\n",
      "\n",
      "To?: G3\n",
      "Your opponent made the move flip 4\n",
      "1 | ?  | ?  | ?  | w1 | ?  | ?  | ?  | b5 | \n",
      "\n",
      "2 | ?  | w1 | ?  | ?  | ?  | ?  | b1 | ?  | \n",
      "\n",
      "3 | ?  | ?  | ?  | ?  | ?  | w3 | b0 | ?  | \n",
      "\n",
      "4 | ?  | w5 | w1 | w2 | ?  |    |    | b5 | \n",
      "    A    B    C    D    E    F    G    H\n",
      "\n",
      "\n",
      "What's your move?: flip\n",
      "\n",
      "Which piece?: G1\n",
      "Your opponent made the move 1 2\n",
      "1 | ?  | ?  | ?  | w1 | ?  | ?  |    | b5 | \n",
      "\n",
      "2 | ?  | w1 | ?  | ?  | ?  | ?  | w4 | ?  | \n",
      "\n",
      "3 | ?  | ?  | ?  | ?  | ?  | w3 | b0 | ?  | \n",
      "\n",
      "4 | ?  | w5 | w1 | w2 | ?  |    |    | b5 | \n",
      "    A    B    C    D    E    F    G    H\n",
      "\n",
      "\n",
      "What's your move?: H1\n",
      "\n",
      "To?: G1\n",
      "Your opponent made the move 2 3\n",
      "1 | ?  | ?  | ?  | w1 | ?  | ?  | b5 |    | \n",
      "\n",
      "2 | ?  | w1 | ?  | ?  | ?  | ?  |    | ?  | \n",
      "\n",
      "3 | ?  | ?  | ?  | ?  | ?  | w3 | w4 | ?  | \n",
      "\n",
      "4 | ?  | w5 | w1 | w2 | ?  |    |    | b5 | \n",
      "    A    B    C    D    E    F    G    H\n",
      "\n",
      "\n",
      "What's your move?: \n"
     ]
    },
    {
     "ename": "KeyboardInterrupt",
     "evalue": "",
     "output_type": "error",
     "traceback": [
      "\u001b[1;31m---------------------------------------------------------------------------\u001b[0m",
      "\u001b[1;31mKeyboardInterrupt\u001b[0m                         Traceback (most recent call last)",
      "\u001b[1;32mC:\\Users\\Jared\\Anaconda3\\lib\\site-packages\\ipykernel\\kernelbase.py\u001b[0m in \u001b[0;36m_input_request\u001b[1;34m(self, prompt, ident, parent, password)\u001b[0m\n\u001b[0;32m    729\u001b[0m             \u001b[1;32mtry\u001b[0m\u001b[1;33m:\u001b[0m\u001b[1;33m\u001b[0m\u001b[0m\n\u001b[1;32m--> 730\u001b[1;33m                 \u001b[0mident\u001b[0m\u001b[1;33m,\u001b[0m \u001b[0mreply\u001b[0m \u001b[1;33m=\u001b[0m \u001b[0mself\u001b[0m\u001b[1;33m.\u001b[0m\u001b[0msession\u001b[0m\u001b[1;33m.\u001b[0m\u001b[0mrecv\u001b[0m\u001b[1;33m(\u001b[0m\u001b[0mself\u001b[0m\u001b[1;33m.\u001b[0m\u001b[0mstdin_socket\u001b[0m\u001b[1;33m,\u001b[0m \u001b[1;36m0\u001b[0m\u001b[1;33m)\u001b[0m\u001b[1;33m\u001b[0m\u001b[0m\n\u001b[0m\u001b[0;32m    731\u001b[0m             \u001b[1;32mexcept\u001b[0m \u001b[0mException\u001b[0m\u001b[1;33m:\u001b[0m\u001b[1;33m\u001b[0m\u001b[0m\n",
      "\u001b[1;32mC:\\Users\\Jared\\Anaconda3\\lib\\site-packages\\jupyter_client\\session.py\u001b[0m in \u001b[0;36mrecv\u001b[1;34m(self, socket, mode, content, copy)\u001b[0m\n\u001b[0;32m    777\u001b[0m         \u001b[1;32mtry\u001b[0m\u001b[1;33m:\u001b[0m\u001b[1;33m\u001b[0m\u001b[0m\n\u001b[1;32m--> 778\u001b[1;33m             \u001b[0mmsg_list\u001b[0m \u001b[1;33m=\u001b[0m \u001b[0msocket\u001b[0m\u001b[1;33m.\u001b[0m\u001b[0mrecv_multipart\u001b[0m\u001b[1;33m(\u001b[0m\u001b[0mmode\u001b[0m\u001b[1;33m,\u001b[0m \u001b[0mcopy\u001b[0m\u001b[1;33m=\u001b[0m\u001b[0mcopy\u001b[0m\u001b[1;33m)\u001b[0m\u001b[1;33m\u001b[0m\u001b[0m\n\u001b[0m\u001b[0;32m    779\u001b[0m         \u001b[1;32mexcept\u001b[0m \u001b[0mzmq\u001b[0m\u001b[1;33m.\u001b[0m\u001b[0mZMQError\u001b[0m \u001b[1;32mas\u001b[0m \u001b[0me\u001b[0m\u001b[1;33m:\u001b[0m\u001b[1;33m\u001b[0m\u001b[0m\n",
      "\u001b[1;32mC:\\Users\\Jared\\Anaconda3\\lib\\site-packages\\zmq\\sugar\\socket.py\u001b[0m in \u001b[0;36mrecv_multipart\u001b[1;34m(self, flags, copy, track)\u001b[0m\n\u001b[0;32m    394\u001b[0m         \"\"\"\n\u001b[1;32m--> 395\u001b[1;33m         \u001b[0mparts\u001b[0m \u001b[1;33m=\u001b[0m \u001b[1;33m[\u001b[0m\u001b[0mself\u001b[0m\u001b[1;33m.\u001b[0m\u001b[0mrecv\u001b[0m\u001b[1;33m(\u001b[0m\u001b[0mflags\u001b[0m\u001b[1;33m,\u001b[0m \u001b[0mcopy\u001b[0m\u001b[1;33m=\u001b[0m\u001b[0mcopy\u001b[0m\u001b[1;33m,\u001b[0m \u001b[0mtrack\u001b[0m\u001b[1;33m=\u001b[0m\u001b[0mtrack\u001b[0m\u001b[1;33m)\u001b[0m\u001b[1;33m]\u001b[0m\u001b[1;33m\u001b[0m\u001b[0m\n\u001b[0m\u001b[0;32m    396\u001b[0m         \u001b[1;31m# have first part already, only loop while more to receive\u001b[0m\u001b[1;33m\u001b[0m\u001b[1;33m\u001b[0m\u001b[0m\n",
      "\u001b[1;32mzmq/backend/cython/socket.pyx\u001b[0m in \u001b[0;36mzmq.backend.cython.socket.Socket.recv (zmq\\backend\\cython\\socket.c:7683)\u001b[1;34m()\u001b[0m\n",
      "\u001b[1;32mzmq/backend/cython/socket.pyx\u001b[0m in \u001b[0;36mzmq.backend.cython.socket.Socket.recv (zmq\\backend\\cython\\socket.c:7460)\u001b[1;34m()\u001b[0m\n",
      "\u001b[1;32mzmq/backend/cython/socket.pyx\u001b[0m in \u001b[0;36mzmq.backend.cython.socket._recv_copy (zmq\\backend\\cython\\socket.c:2344)\u001b[1;34m()\u001b[0m\n",
      "\u001b[1;32mC:\\Users\\Jared\\Anaconda3\\lib\\site-packages\\zmq\\backend\\cython\\checkrc.pxd\u001b[0m in \u001b[0;36mzmq.backend.cython.checkrc._check_rc (zmq\\backend\\cython\\socket.c:9621)\u001b[1;34m()\u001b[0m\n",
      "\u001b[1;31mKeyboardInterrupt\u001b[0m: ",
      "\nDuring handling of the above exception, another exception occurred:\n",
      "\u001b[1;31mKeyboardInterrupt\u001b[0m                         Traceback (most recent call last)",
      "\u001b[1;32m<ipython-input-22-ebe62be15f91>\u001b[0m in \u001b[0;36m<module>\u001b[1;34m()\u001b[0m\n\u001b[0;32m      1\u001b[0m \u001b[0mgame\u001b[0m \u001b[1;33m=\u001b[0m \u001b[0mcreateGame\u001b[0m\u001b[1;33m(\u001b[0m\u001b[1;33m)\u001b[0m\u001b[1;33m\u001b[0m\u001b[0m\n\u001b[1;32m----> 2\u001b[1;33m \u001b[0mplayGame\u001b[0m\u001b[1;33m(\u001b[0m\u001b[0mgame\u001b[0m\u001b[1;33m,\u001b[0m\u001b[1;34m\"w\"\u001b[0m\u001b[1;33m,\u001b[0m\u001b[1;36m2\u001b[0m\u001b[1;33m)\u001b[0m\u001b[1;33m\u001b[0m\u001b[0m\n\u001b[0m",
      "\u001b[1;32m<ipython-input-21-79b3c0dfc3ad>\u001b[0m in \u001b[0;36mplayGame\u001b[1;34m(game, color, depthLimit)\u001b[0m\n\u001b[0;32m     13\u001b[0m             \u001b[0mmfrom\u001b[0m \u001b[1;33m=\u001b[0m\u001b[1;34m\"\"\u001b[0m\u001b[1;33m\u001b[0m\u001b[0m\n\u001b[0;32m     14\u001b[0m             \u001b[0mmto\u001b[0m \u001b[1;33m=\u001b[0m \u001b[1;34m\"\"\u001b[0m\u001b[1;33m\u001b[0m\u001b[0m\n\u001b[1;32m---> 15\u001b[1;33m             \u001b[0mmfrom\u001b[0m \u001b[1;33m=\u001b[0m \u001b[0minput\u001b[0m\u001b[1;33m(\u001b[0m\u001b[1;34m\"What's your move?: \"\u001b[0m\u001b[1;33m)\u001b[0m\u001b[1;33m\u001b[0m\u001b[0m\n\u001b[0m\u001b[0;32m     16\u001b[0m             \u001b[1;32mwhile\u001b[0m \u001b[0mmfrom\u001b[0m \u001b[1;33m!=\u001b[0m \u001b[1;34m\"flip\"\u001b[0m \u001b[1;32mand\u001b[0m \u001b[0mlen\u001b[0m\u001b[1;33m(\u001b[0m\u001b[0mmfrom\u001b[0m\u001b[1;33m)\u001b[0m\u001b[1;33m>\u001b[0m\u001b[1;36m2\u001b[0m\u001b[1;33m:\u001b[0m\u001b[1;33m\u001b[0m\u001b[0m\n\u001b[0;32m     17\u001b[0m                 \u001b[0mmfrom\u001b[0m \u001b[1;33m=\u001b[0m \u001b[0minput\u001b[0m\u001b[1;33m(\u001b[0m\u001b[1;34m\"Incorrect input What's your move?: \"\u001b[0m\u001b[1;33m)\u001b[0m\u001b[1;33m\u001b[0m\u001b[0m\n",
      "\u001b[1;32mC:\\Users\\Jared\\Anaconda3\\lib\\site-packages\\ipykernel\\kernelbase.py\u001b[0m in \u001b[0;36mraw_input\u001b[1;34m(self, prompt)\u001b[0m\n\u001b[0;32m    703\u001b[0m             \u001b[0mself\u001b[0m\u001b[1;33m.\u001b[0m\u001b[0m_parent_ident\u001b[0m\u001b[1;33m,\u001b[0m\u001b[1;33m\u001b[0m\u001b[0m\n\u001b[0;32m    704\u001b[0m             \u001b[0mself\u001b[0m\u001b[1;33m.\u001b[0m\u001b[0m_parent_header\u001b[0m\u001b[1;33m,\u001b[0m\u001b[1;33m\u001b[0m\u001b[0m\n\u001b[1;32m--> 705\u001b[1;33m             \u001b[0mpassword\u001b[0m\u001b[1;33m=\u001b[0m\u001b[1;32mFalse\u001b[0m\u001b[1;33m,\u001b[0m\u001b[1;33m\u001b[0m\u001b[0m\n\u001b[0m\u001b[0;32m    706\u001b[0m         )\n\u001b[0;32m    707\u001b[0m \u001b[1;33m\u001b[0m\u001b[0m\n",
      "\u001b[1;32mC:\\Users\\Jared\\Anaconda3\\lib\\site-packages\\ipykernel\\kernelbase.py\u001b[0m in \u001b[0;36m_input_request\u001b[1;34m(self, prompt, ident, parent, password)\u001b[0m\n\u001b[0;32m    733\u001b[0m             \u001b[1;32mexcept\u001b[0m \u001b[0mKeyboardInterrupt\u001b[0m\u001b[1;33m:\u001b[0m\u001b[1;33m\u001b[0m\u001b[0m\n\u001b[0;32m    734\u001b[0m                 \u001b[1;31m# re-raise KeyboardInterrupt, to truncate traceback\u001b[0m\u001b[1;33m\u001b[0m\u001b[1;33m\u001b[0m\u001b[0m\n\u001b[1;32m--> 735\u001b[1;33m                 \u001b[1;32mraise\u001b[0m \u001b[0mKeyboardInterrupt\u001b[0m\u001b[1;33m\u001b[0m\u001b[0m\n\u001b[0m\u001b[0;32m    736\u001b[0m             \u001b[1;32melse\u001b[0m\u001b[1;33m:\u001b[0m\u001b[1;33m\u001b[0m\u001b[0m\n\u001b[0;32m    737\u001b[0m                 \u001b[1;32mbreak\u001b[0m\u001b[1;33m\u001b[0m\u001b[0m\n",
      "\u001b[1;31mKeyboardInterrupt\u001b[0m: "
     ]
    }
   ],
   "source": [
    "game = createGame()\n",
    "playGame(game,\"w\",2)"
   ]
  },
  {
   "cell_type": "code",
   "execution_count": null,
   "metadata": {
    "collapsed": true
   },
   "outputs": [],
   "source": []
  }
 ],
 "metadata": {
  "anaconda-cloud": {},
  "kernelspec": {
   "display_name": "Python 3",
   "language": "python",
   "name": "python3"
  },
  "language_info": {
   "codemirror_mode": {
    "name": "ipython",
    "version": 3
   },
   "file_extension": ".py",
   "mimetype": "text/x-python",
   "name": "python",
   "nbconvert_exporter": "python",
   "pygments_lexer": "ipython3",
   "version": "3.6.1"
  },
  "toc": {
   "nav_menu": {},
   "number_sections": true,
   "sideBar": true,
   "skip_h1_title": false,
   "toc_cell": false,
   "toc_position": {},
   "toc_section_display": "block",
   "toc_window_display": false
  }
 },
 "nbformat": 4,
 "nbformat_minor": 1
}
