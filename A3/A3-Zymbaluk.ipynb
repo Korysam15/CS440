{
 "cells": [
  {
   "cell_type": "markdown",
   "metadata": {},
   "source": [
    "# A3: A\\*, IDS, and Effective Branching Factor"
   ]
  },
  {
   "cell_type": "markdown",
   "metadata": {},
   "source": [
    "# Gobal variables and goalTest:"
   ]
  },
  {
   "cell_type": "code",
   "execution_count": 1,
   "metadata": {
    "code_folding": [
     0
    ],
    "collapsed": true
   },
   "outputs": [],
   "source": [
    "def goalTestF_8p(state, goal):\n",
    "    if state ==goal:\n",
    "        return True\n",
    "    else:\n",
    "        return False"
   ]
  },
  {
   "cell_type": "code",
   "execution_count": 2,
   "metadata": {
    "collapsed": true
   },
   "outputs": [],
   "source": [
    "num_nodes_a=0\n",
    "depth_level_a=0\n",
    "num_nodes_ids=0\n",
    "depth_level_ids=0"
   ]
  },
  {
   "cell_type": "markdown",
   "metadata": {},
   "source": [
    "# IDS Implementation From A2:"
   ]
  },
  {
   "cell_type": "code",
   "execution_count": 3,
   "metadata": {
    "code_folding": [
     0
    ],
    "collapsed": true
   },
   "outputs": [],
   "source": [
    "def iterativeDeepeningSearch(startState, goalState, actionsF, takeActionF, maxDepth):\n",
    "    global num_nodes_ids\n",
    "    global depth_level_ids\n",
    "    for depth in range(maxDepth):\n",
    "        depth_level_ids+=1\n",
    "        result = depthLimitedSearch(startState, goalState, actionsF, takeActionF, depth)\n",
    "        if result == \"failure\":\n",
    "            return \"failure\"\n",
    "        if (result != 'cutoff'):\n",
    "            result.insert(0,startState) \n",
    "            depth_level_ids-=1\n",
    "            return result\n",
    "    return \"cutoff\""
   ]
  },
  {
   "cell_type": "code",
   "execution_count": 4,
   "metadata": {
    "code_folding": [
     0
    ],
    "collapsed": true
   },
   "outputs": [],
   "source": [
    "def depthLimitedSearch(state, goalState, actionsF, takeActionF, depthLimit):\n",
    "    global num_nodes_ids\n",
    "    global depth_level_ids\n",
    "    if(state == goalState):\n",
    "        return []\n",
    "    \n",
    "    if(depthLimit == 0):\n",
    "        return \"cutoff\"\n",
    "    \n",
    "    cutoffOccurred = False\n",
    "    \n",
    "    for action in actionsF(state):\n",
    "        num_nodes_ids+=1\n",
    "        childState,_ = takeActionF(state, action)\n",
    "        result = depthLimitedSearch(childState, goalState, actionsF, takeActionF, depthLimit-1)\n",
    "        if(result == \"cutoff\"):\n",
    "            cutoffOccurred = True\n",
    "            \n",
    "        elif(result != \"failure\"):\n",
    "            result.insert(0,childState)\n",
    "            return result\n",
    "    if(cutoffOccurred):\n",
    "        return \"cutoff\"\n",
    "    else:\n",
    "        return \"failure\""
   ]
  },
  {
   "cell_type": "code",
   "execution_count": 5,
   "metadata": {
    "code_folding": [
     0
    ],
    "collapsed": true
   },
   "outputs": [],
   "source": [
    "def actionsF_8p(state):\n",
    "    if (state[0]==0):\n",
    "        return [(\"right\",1),(\"down\",1)]\n",
    "    elif (state[1]==0):\n",
    "        return [(\"left\",1),(\"right\",1),(\"down\",1)]\n",
    "    elif (state[2]==0):\n",
    "        return [(\"left\",1),(\"down\",1)]\n",
    "    elif (state[3]==0):\n",
    "        return [(\"right\",1),(\"up\",1),(\"down\",1)]\n",
    "    elif (state[4]==0):\n",
    "        return [(\"left\",1),(\"right\",1),(\"up\",1),(\"down\",1)]\n",
    "    elif (state[5]==0):\n",
    "        return [(\"left\",1),(\"up\",1),(\"down\",1)]\n",
    "    elif (state[6]==0):\n",
    "        return [(\"right\",1),(\"up\",1)]\n",
    "    elif (state[7]==0):\n",
    "        return [(\"left\",1),(\"right\",1),(\"up\",1)]\n",
    "    elif (state[8]==0):\n",
    "        return [(\"left\",1),(\"up\",1)]"
   ]
  },
  {
   "cell_type": "code",
   "execution_count": 6,
   "metadata": {
    "code_folding": [
     0
    ],
    "collapsed": true
   },
   "outputs": [],
   "source": [
    "def takeActionF_8p(state, action):\n",
    "    newState = state[:]\n",
    "    move,_= action\n",
    "    if (newState[0]==0):\n",
    "        if (action[0] == \"right\"):\n",
    "            newState[0] = newState[1]\n",
    "            newState[1] = 0\n",
    "        if (action[0] == \"down\"):\n",
    "            newState[0] = newState[3]\n",
    "            newState[3] = 0\n",
    "        return (newState,1) \n",
    "    elif (state[1]==0):\n",
    "        if (action[0] == \"right\"):\n",
    "            newState[1] = newState[2]\n",
    "            newState[2] = 0\n",
    "        if (action[0] == \"left\"):\n",
    "            newState[1] = newState[0]\n",
    "            newState[0] = 0\n",
    "        if (action[0] == \"down\"):\n",
    "            newState[1] = newState[4]\n",
    "            newState[4] = 0\n",
    "        return (newState,1)\n",
    "    elif (state[2]==0):\n",
    "        if (action[0] == \"left\"):\n",
    "            newState[2] = newState[1]\n",
    "            newState[1] = 0\n",
    "        if (action[0] == \"down\"):\n",
    "            newState[2] = newState[5]\n",
    "            newState[5] = 0\n",
    "        return (newState,1)\n",
    "    elif (state[3]==0):\n",
    "        if (action[0] == \"right\"):\n",
    "            newState[3] = newState[4]\n",
    "            newState[4] = 0\n",
    "        if (action[0] == \"down\"):\n",
    "            newState[3] = newState[6]\n",
    "            newState[6] = 0\n",
    "        if (action[0] == \"up\"):\n",
    "            newState[3] = newState[0]\n",
    "            newState[0] = 0\n",
    "        return (newState,1)\n",
    "    elif (state[4]==0):\n",
    "        if (action[0] == \"right\"):\n",
    "            newState[4] = newState[5]\n",
    "            newState[5] = 0\n",
    "        if (action[0] == \"left\"):\n",
    "            newState[4] = newState[3]\n",
    "            newState[3] = 0\n",
    "        if (action[0] == \"down\"):\n",
    "            newState[4] = newState[7]\n",
    "            newState[7] = 0\n",
    "        if (action[0] == \"up\"):\n",
    "            newState[4] = newState[1]\n",
    "            newState[1] = 0\n",
    "        return (newState,1)\n",
    "    elif (state[5]==0):\n",
    "        if (action[0] == \"left\"):\n",
    "            newState[5] = newState[4]\n",
    "            newState[4] = 0\n",
    "        if (action[0] == \"down\"):\n",
    "            newState[5] = newState[8]\n",
    "            newState[8] = 0\n",
    "        if (action[0] == \"up\"):\n",
    "            newState[5] = newState[2]\n",
    "            newState[2] = 0\n",
    "        return (newState,1)\n",
    "    elif (state[6]==0):\n",
    "        if (action[0] == \"right\"):\n",
    "            newState[6] = newState[7]\n",
    "            newState[7] = 0\n",
    "        if (action[0] == \"up\"):\n",
    "            newState[6] = newState[3]\n",
    "            newState[3] = 0\n",
    "        return (newState,1)\n",
    "    elif (state[7]==0):\n",
    "        if (action[0] == \"right\"):\n",
    "            newState[7] = newState[8]\n",
    "            newState[8] = 0\n",
    "        if (action[0] == \"left\"):\n",
    "            newState[7] = newState[6]\n",
    "            newState[6] = 0\n",
    "        if (action[0] == \"up\"):\n",
    "            newState[7] = newState[4]\n",
    "            newState[4] = 0\n",
    "        return (newState,1)\n",
    "    elif (state[8]==0):\n",
    "        if (action[0] == \"left\"):\n",
    "            newState[8] = newState[7]\n",
    "            newState[7] = 0\n",
    "        if (action[0] == \"up\"):\n",
    "            newState[8] = newState[5]\n",
    "            newState[5] = 0\n",
    "        return (newState,1)"
   ]
  },
  {
   "cell_type": "code",
   "execution_count": 7,
   "metadata": {
    "code_folding": [
     0
    ],
    "collapsed": true
   },
   "outputs": [],
   "source": [
    "def findBlank_8p(state):\n",
    "    if (state[0]==0):\n",
    "        return (0,0)\n",
    "    elif (state[1]==0):\n",
    "        return (0,1)\n",
    "    elif (state[2]==0):\n",
    "        return (0,2)\n",
    "    elif (state[3]==0):\n",
    "        return (1,0)\n",
    "    elif (state[4]==0):\n",
    "        return (1,1)\n",
    "    elif (state[5]==0):\n",
    "        return (1,2)\n",
    "    elif (state[6]==0):\n",
    "        return (2,0)\n",
    "    elif (state[7]==0):\n",
    "        return (2,1)\n",
    "    elif (state[8]==0):\n",
    "        return (2,2)"
   ]
  },
  {
   "cell_type": "markdown",
   "metadata": {},
   "source": [
    "^This code is a slightly modified version of my IDS and depth limited search from A2. It has been modified to ignore the cost of actions, and to keep track of nodes searched and the depth searched"
   ]
  },
  {
   "cell_type": "markdown",
   "metadata": {},
   "source": [
    "# A* Search Implementation:"
   ]
  },
  {
   "cell_type": "code",
   "execution_count": 8,
   "metadata": {
    "code_folding": [
     0
    ],
    "collapsed": true
   },
   "outputs": [],
   "source": [
    "class Node:\n",
    "    def __init__(self, state, f=0, g=0 ,h=0):\n",
    "        self.state = state\n",
    "        self.f = f\n",
    "        self.g = g\n",
    "        self.h = h\n",
    "    def __repr__(self):\n",
    "        return \"Node(\" + repr(self.state) + \", f=\" + repr(self.f) + \\\n",
    "               \", g=\" + repr(self.g) + \", h=\" + repr(self.h) + \")\""
   ]
  },
  {
   "cell_type": "code",
   "execution_count": 9,
   "metadata": {
    "code_folding": [
     0
    ],
    "collapsed": true
   },
   "outputs": [],
   "source": [
    "def aStarSearch(startState, actionsF, takeActionF, goalTestF, hF):\n",
    "    h = hF(startState)\n",
    "    startNode = Node(state=startState, f=0+h, g=0, h=h)\n",
    "    return aStarSearchHelper(startNode, actionsF, takeActionF, goalTestF, hF, float('inf'))"
   ]
  },
  {
   "cell_type": "code",
   "execution_count": 10,
   "metadata": {
    "code_folding": [
     0
    ],
    "collapsed": true
   },
   "outputs": [],
   "source": [
    "def aStarSearchHelper(parentNode, actionsF, takeActionF, goalTestF, hF, fmax):\n",
    "    global num_nodes_a\n",
    "    global depth_level_a\n",
    "    \n",
    "    if goalTestF(parentNode.state):\n",
    "        return ([parentNode.state], parentNode.g)\n",
    "    ## Construct list of children nodes with f, g, and h values\n",
    "    actions = actionsF(parentNode.state)\n",
    "    if not actions:\n",
    "        return (\"failure\", float('inf'))\n",
    "    children = []\n",
    "    for action in actions:\n",
    "        num_nodes_a += 1\n",
    "        (childState,stepCost) = takeActionF(parentNode.state, action)\n",
    "        h = hF(childState)\n",
    "        g = parentNode.g + stepCost\n",
    "        f = max(h+g, parentNode.f)\n",
    "        childNode = Node(state=childState, f=f, g=g, h=h)\n",
    "        children.append(childNode)\n",
    "    while True:\n",
    "        # find best child\n",
    "        children.sort(key = lambda n: n.f) # sort by f value\n",
    "        bestChild = children[0]\n",
    "        if bestChild.f > fmax:\n",
    "            return (\"failure\",bestChild.f)\n",
    "        # next lowest f value\n",
    "        alternativef = children[1].f if len(children) > 1 else float('inf')\n",
    "        # expand best child, reassign its f value to be returned value\n",
    "        result,bestChild.f = aStarSearchHelper(bestChild, actionsF, takeActionF, goalTestF,\n",
    "                                            hF, min(fmax,alternativef))\n",
    "        if result is not \"failure\": \n",
    "            depth_level_a +=1\n",
    "            result.insert(0,parentNode.state)\n",
    "            return (result, bestChild.f)"
   ]
  },
  {
   "cell_type": "markdown",
   "metadata": {},
   "source": [
    "^This code is a slightly modified version of Proffesor Anderson's A* search code. It has been modified to keep track of the number of nodes searched, and the depth searched"
   ]
  },
  {
   "cell_type": "markdown",
   "metadata": {},
   "source": [
    "# EBF Implementation:"
   ]
  },
  {
   "cell_type": "code",
   "execution_count": 11,
   "metadata": {
    "code_folding": [
     0
    ],
    "collapsed": true
   },
   "outputs": [],
   "source": [
    "def ebf(nNodes, depth, precision=0.01):\n",
    "    if depth == 0:\n",
    "        return nNodes\n",
    "    \n",
    "    bUpper=0\n",
    "    bLower=0\n",
    "    nodeNum=0\n",
    "    \n",
    "    #find an upper and a lower bound (incremented by ten)\n",
    "    while nodeNum<nNodes:\n",
    "        bLower = bUpper\n",
    "        nodeNum = bCalculator(depth,bUpper)\n",
    "        bUpper+=10\n",
    "        \n",
    "    bLower-=10\n",
    "    bUpper-=10\n",
    "\n",
    "    #if numNodes is within the precision range, return your lower bound\n",
    "    if ((nNodes-precision)<=nodeNum<=(nNodes+precision)):\n",
    "        return bLower\n",
    "    \n",
    "    #else perform binary search to narrow your number until it is within range\n",
    "    while (not ((nNodes-precision)<=nodeNum<=(nNodes+precision))):\n",
    "        bMiddle = (bLower+bUpper)/2                               #finds middle point between bounds\n",
    "        nodeNum = bCalculator(depth,bMiddle)                       #gets result of b equation\n",
    "        if ((nNodes-precision)<=nodeNum<=(nNodes+precision)):     #checks if in range\n",
    "            return bMiddle\n",
    "        if nodeNum>nNodes:                                        #sets upper bound to middle\n",
    "            bUpper = bMiddle\n",
    "        if nodeNum<nNodes:                                        #sets lower bound to middle\n",
    "            bLower = bMiddle"
   ]
  },
  {
   "cell_type": "markdown",
   "metadata": {},
   "source": [
    "^This code is my implementation of EBF. It starts by finding an upper and lower bound, and then performs binary search within those bounds to find an EBF that is within the desired precision"
   ]
  },
  {
   "cell_type": "code",
   "execution_count": 12,
   "metadata": {
    "collapsed": true
   },
   "outputs": [],
   "source": [
    "def bCalculator(depth,b):\n",
    "    return (1-(b**(depth+1)))/(1-b)"
   ]
  },
  {
   "cell_type": "markdown",
   "metadata": {},
   "source": [
    "^This is a helper function for ebf. It calculates the number of nodes based on the equation provided by proffessor Anderson"
   ]
  },
  {
   "cell_type": "markdown",
   "metadata": {},
   "source": [
    "# Heuristic Functions Implementation:"
   ]
  },
  {
   "cell_type": "code",
   "execution_count": 13,
   "metadata": {
    "code_folding": [
     0
    ],
    "collapsed": true
   },
   "outputs": [],
   "source": [
    "def h1_8p(state, goal):\n",
    "    return 0"
   ]
  },
  {
   "cell_type": "markdown",
   "metadata": {},
   "source": [
    "^This heuristic function simply returns 0 for all states, which will always be at least equal to, or less than the number of moves required to reach your goal state"
   ]
  },
  {
   "cell_type": "code",
   "execution_count": 14,
   "metadata": {
    "code_folding": [
     0
    ],
    "collapsed": true
   },
   "outputs": [],
   "source": [
    "def h2_8p(state, goal):\n",
    "    return manhattan(state,goal,0)"
   ]
  },
  {
   "cell_type": "markdown",
   "metadata": {},
   "source": [
    "^This heuristic function returns the manhattan distance of the blank from its goal position in the puzzle. It's admissable because you will always need to move the blank at least that many times to solve the puzzle"
   ]
  },
  {
   "cell_type": "code",
   "execution_count": 15,
   "metadata": {
    "code_folding": [
     0
    ],
    "collapsed": true
   },
   "outputs": [],
   "source": [
    "def h3_8p(state, goal):\n",
    "    counter = 0\n",
    "    for s,g in zip(state,goal):\n",
    "        if not s==g:\n",
    "            counter+=1\n",
    "    return counter"
   ]
  },
  {
   "cell_type": "markdown",
   "metadata": {},
   "source": [
    "^This heuristic function returns the number of tiles from the current state that are not in the correct position in the goal state. It is admissable because You will always need to move the tiles out of place at least once in order to find your goal. Therefore it will always underestimate, or equal the amount of moves required"
   ]
  },
  {
   "cell_type": "code",
   "execution_count": 16,
   "metadata": {
    "code_folding": [
     0
    ],
    "collapsed": true
   },
   "outputs": [],
   "source": [
    "def manhattan(state, goal,item):\n",
    "    firstP = getCoordinate(state, item) #get first coordinate\n",
    "    secondP = getCoordinate(goal,item) #get second coordinate\n",
    "    return abs(firstP[0]-secondP[0])+abs(firstP[1]-secondP[1]) #return manhattan distance |x1-x2|+|y1-y2|\n",
    "    "
   ]
  },
  {
   "cell_type": "markdown",
   "metadata": {},
   "source": [
    "^This is a helper function to get the manhattan distance of a puzzle piece. returns |x1-x2|+|y1-y2| where x1 and x2 are the x coordinate of the current and goal states, and y1, y2 are the y coordinates of the current and goal state"
   ]
  },
  {
   "cell_type": "code",
   "execution_count": 17,
   "metadata": {
    "code_folding": [
     0
    ],
    "collapsed": true
   },
   "outputs": [],
   "source": [
    "def getCoordinate(state, item):\n",
    "    index = state.index(item)\n",
    "    if index==0:\n",
    "        return [0,0]\n",
    "    if index==1:\n",
    "        return [0,1]\n",
    "    if index==2:\n",
    "        return [0,2]\n",
    "    if index==3:\n",
    "        return [1,0]\n",
    "    if index==4:\n",
    "        return [1,1]\n",
    "    if index==5:\n",
    "        return [1,2]\n",
    "    if index==6:\n",
    "        return [2,0]\n",
    "    if index==7:\n",
    "        return [2,1]\n",
    "    if index==8:\n",
    "        return [2,2]"
   ]
  },
  {
   "cell_type": "markdown",
   "metadata": {},
   "source": [
    "^This function gets the coordinates of a puzzle piece"
   ]
  },
  {
   "cell_type": "markdown",
   "metadata": {},
   "source": [
    "# runExperiment implementation:\n",
    "## NOTE: This function rounds EBF to three decimal places, like in Professor Anderson's example"
   ]
  },
  {
   "cell_type": "code",
   "execution_count": 18,
   "metadata": {
    "code_folding": [],
    "collapsed": true
   },
   "outputs": [],
   "source": [
    "def runExperiment(goalState1, goalState2, goalState3, functionlist):\n",
    "    global num_nodes_a\n",
    "    global depth_level_a\n",
    "    global num_nodes_ids\n",
    "    global depth_level_ids\n",
    "    num_nodes_a = 0\n",
    "    depth_level_a = 0\n",
    "    num_nodes_ids = 0\n",
    "    depth_level_ids = 0\n",
    "    startState = [1,2,3,4,0,5,6,7,8]\n",
    "    \n",
    "    #do first goal state\n",
    "    print(\"  [1, 2, 3, 4, 0, 5, 6, 7, 8]\")\n",
    "    print(\"Algorithm    Depth  Nodes  EBF \")\n",
    "    num_nodes_ids = 0\n",
    "    depth_level_ids = 0\n",
    "    iterativeDeepeningSearch(startState, goalState1, actionsF_8p, takeActionF_8p, 1000000)\n",
    "    print(\"IDS          \"+str(depth_level_ids) + \"      \" +str(num_nodes_ids) + \"      \"+str(round(ebf(num_nodes_ids,depth_level_ids),3)))\n",
    "    for func in functionlist:\n",
    "        num_nodes_a = 0\n",
    "        depth_level_a = 0\n",
    "        \n",
    "        \n",
    "        aStarSearch(startState,actionsF_8p, takeActionF_8p,\n",
    "                lambda s: goalTestF_8p(s, goalState1),\n",
    "                lambda s: func(s, goalState1))\n",
    "        print(\"A*-\"+func.__name__ +\"     \"+str(depth_level_a) + \"      \" +str(num_nodes_a) + \"      \"+str(round(ebf(num_nodes_a,depth_level_a),3)))\n",
    "    \n",
    "    print()\n",
    "    #do second goal state\n",
    "    print(\"  [1, 2, 3, 4, 5, 8, 6, 0, 7]\")\n",
    "    print(\"Algorithm    Depth  Nodes  EBF \")\n",
    "    num_nodes_ids = 0\n",
    "    depth_level_ids = 0\n",
    "    iterativeDeepeningSearch(startState, goalState2, actionsF_8p, takeActionF_8p, 1000000)\n",
    "    print(\"IDS          \"+str(depth_level_ids) + \"      \" +str(num_nodes_ids) + \"      \"+str(round(ebf(num_nodes_ids,depth_level_ids),3)))\n",
    "    for func in functionlist:\n",
    "        num_nodes_a = 0\n",
    "        depth_level_a = 0\n",
    "        \n",
    "        \n",
    "        aStarSearch(startState,actionsF_8p, takeActionF_8p,\n",
    "                lambda s: goalTestF_8p(s, goalState2),\n",
    "                lambda s: func(s, goalState2))\n",
    "        print(\"A*-\"+func.__name__ +\"     \"+str(depth_level_a) + \"      \" +str(num_nodes_a) + \"      \"+str(round(ebf(num_nodes_a,depth_level_a),3)))\n",
    "    \n",
    "    \n",
    "    print()\n",
    "    #do third goal state\n",
    "    print(\"  [1, 0, 3, 4, 5, 8, 2, 6, 7]\")\n",
    "    print(\"Algorithm    Depth  Nodes  EBF \")\n",
    "    num_nodes_ids = 0\n",
    "    depth_level_ids = 0\n",
    "    iterativeDeepeningSearch(startState, goalState3, actionsF_8p, takeActionF_8p, 1000000)\n",
    "    print(\"IDS          \"+str(depth_level_ids) + \"     \" +str(num_nodes_ids) + \"      \"+str(round(ebf(num_nodes_ids,depth_level_ids),3)))\n",
    "    for func in functionlist:\n",
    "        num_nodes_a = 0\n",
    "        depth_level_a = 0\n",
    "        \n",
    "        \n",
    "        aStarSearch(startState,actionsF_8p, takeActionF_8p,\n",
    "                lambda s: goalTestF_8p(s, goalState3),\n",
    "                lambda s: func(s, goalState3))\n",
    "        print(\"A*-\"+func.__name__ +\"     \"+str(depth_level_a) + \"     \" +str(num_nodes_a) + \"      \"+str(round(ebf(num_nodes_a,depth_level_a),3)))\n",
    "    \n",
    "    \n",
    "    return"
   ]
  },
  {
   "cell_type": "markdown",
   "metadata": {},
   "source": [
    "^This is my runExperiment implementation. It runs IDS, and then A* with any number of hueristic functions, and prints them in a table"
   ]
  },
  {
   "cell_type": "markdown",
   "metadata": {},
   "source": [
    "# runExperiment with the  three goal states:"
   ]
  },
  {
   "cell_type": "code",
   "execution_count": 19,
   "metadata": {},
   "outputs": [
    {
     "name": "stdout",
     "output_type": "stream",
     "text": [
      "  [1, 2, 3, 4, 0, 5, 6, 7, 8]\n",
      "Algorithm    Depth  Nodes  EBF \n",
      "IDS          0      0      0\n",
      "A*-h1_8p     0      0      0\n",
      "A*-h2_8p     0      0      0\n",
      "A*-h3_8p     0      0      0\n",
      "\n",
      "  [1, 2, 3, 4, 5, 8, 6, 0, 7]\n",
      "Algorithm    Depth  Nodes  EBF \n",
      "IDS          3      43      3.086\n",
      "A*-h1_8p     3      116      4.488\n",
      "A*-h2_8p     3      51      3.297\n",
      "A*-h3_8p     3      9      1.578\n",
      "\n",
      "  [1, 0, 3, 4, 5, 8, 2, 6, 7]\n",
      "Algorithm    Depth  Nodes  EBF \n",
      "IDS          11     225850      2.954\n",
      "A*-h1_8p     11     643246      3.263\n",
      "A*-h2_8p     11     100046      2.733\n",
      "A*-h3_8p     11     5232      2.049\n"
     ]
    }
   ],
   "source": [
    "gs1 = [1,2,3,4,0,5,6,7,8]\n",
    "gs2 = [1,2,3,4,5,8,6,0,7]\n",
    "gs3 = [1,0,3,4,5,8,2,6,7]\n",
    "runExperiment(gs1, gs2, gs3, [h1_8p,h2_8p,h3_8p])"
   ]
  }
 ],
 "metadata": {
  "anaconda-cloud": {},
  "kernelspec": {
   "display_name": "Python 3",
   "language": "python",
   "name": "python3"
  },
  "language_info": {
   "codemirror_mode": {
    "name": "ipython",
    "version": 3
   },
   "file_extension": ".py",
   "mimetype": "text/x-python",
   "name": "python",
   "nbconvert_exporter": "python",
   "pygments_lexer": "ipython3",
   "version": "3.6.1"
  }
 },
 "nbformat": 4,
 "nbformat_minor": 1
}
