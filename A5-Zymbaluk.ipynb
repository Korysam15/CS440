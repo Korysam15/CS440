{
 "cells": [
  {
   "cell_type": "markdown",
   "metadata": {},
   "source": [
    "# Reinforcement Learning Solution to the Towers of Hanoi Puzzle"
   ]
  },
  {
   "cell_type": "markdown",
   "metadata": {},
   "source": [
    "For this assignment, you will use reinforcement learning to solve the [Towers of Hanoi](https://en.wikipedia.org/wiki/Tower_of_Hanoi) puzzle.  \n",
    "\n",
    "To accomplish this, you must modify the code discussed in lecture for learning to play Tic-Tac-Toe.  Modify the code  so that it learns to solve the three-disk, three-peg\n",
    "Towers of Hanoi Puzzle.  In some ways, this will be simpler than the\n",
    "Tic-Tac-Toe code.  \n",
    "\n",
    "Steps required to do this include the following:\n",
    "\n",
    "  - Represent the state, and use it as a tuple as a key to the Q dictionary.\n",
    "  - Make sure only valid moves are tried from each state.\n",
    "  - Assign reinforcement of $-1$ to each move unless it is a move to the goal state, for which the reinforcement is $0$.  This represents the goal of finding the shortest path to the goal.\n",
    "\n",
    "Make a plot of the number of steps required to reach the goal for each\n",
    "trial.  Each trial starts from the same initial state.  Decay epsilon\n",
    "as in the Tic-Tac-Toe code."
   ]
  },
  {
   "cell_type": "markdown",
   "metadata": {},
   "source": [
    "## Requirements"
   ]
  },
  {
   "cell_type": "markdown",
   "metadata": {},
   "source": [
    "First, how should we represent the state of this puzzle?  We need to keep track of which disks are on which pegs. Name the disks 1, 2, and 3, with 1 being the smallest disk and 3 being the largest. The set of disks on a peg can be represented as a list of integers.  Then the state can be a list of three lists.\n",
    "\n",
    "For example, the starting state with all disks being on the left peg would be `[[1, 2, 3], [], []]`.  After moving disk 1 to peg 2, we have `[[2, 3], [1], []]`.\n",
    "\n",
    "To represent that move we just made, we can use a list of two peg numbers, like `[1, 2]`, representing a move of the top disk on peg 1 to peg 2."
   ]
  },
  {
   "cell_type": "markdown",
   "metadata": {},
   "source": [
    "Now on to some functions. Define at least the following functions. Examples showing required output appear below.\n",
    "\n",
    "   - `printState(state)`: prints the state in the form shown below\n",
    "   - `validMoves(state)`: returns list of moves that are valid from `state`\n",
    "   - `makeMove(state, move)`: returns new (copy of) state after move has been applied.\n",
    "   - `trainQ(nRepetitions, learningRate, epsilonDecayFactor, validMovesF, makeMoveF)`: train the Q function for number of repetitions, decaying epsilon at start of each repetition. Returns Q and list or array of number of steps to reach goal for each repetition.\n",
    "   - `testQ(Q, maxSteps, validMovesF, makeMoveF)`: without updating Q, use Q to find greedy action each step until goal is found. Return path of states.\n",
    "\n",
    "A function that you might choose to implement is\n",
    "\n",
    "   - `stateMoveTuple(state, move)`: returns tuple of state and move.  \n",
    "    \n",
    "This is useful for converting state and move to a key to be used for the Q dictionary."
   ]
  },
  {
   "cell_type": "code",
   "execution_count": 493,
   "metadata": {
    "collapsed": true
   },
   "outputs": [],
   "source": [
    "import numpy as np\n",
    "import matplotlib.pyplot as plt\n",
    "%matplotlib inline\n",
    "import copy"
   ]
  },
  {
   "cell_type": "code",
   "execution_count": 494,
   "metadata": {
    "code_folding": [
     0
    ]
   },
   "outputs": [],
   "source": [
    "def printState(state):\n",
    "    string = \"\"\n",
    "    if state[0] and state[1] and state[2]:\n",
    "        string = string + str(state[0][0]) + \" \" +str(state[1][0]) + \" \"+str(state[2][0]) + \"\\n\"\n",
    "    if state[0] and not state[1] and not state[2]:\n",
    "        string = string + str(state[0][0]) + \"\\n\" +str(state[0][1]) + \"\\n\"+str(state[0][2]) + \"\\n\"\n",
    "    if not state[0] and state[1] and not state[2]:\n",
    "        string = string + \"  \" + str(state[1][0]) + \"\\n\" + \"  \" +str(state[1][1]) + \"\\n\" + \"  \" + str(state[1][2]) + \"\\n\"\n",
    "    if not state[0] and not state[1] and state[2]:\n",
    "        string = string + \"    \" + str(state[2][0]) + \"\\n\" + \"    \" +str(state[2][1]) + \"\\n\" + \"    \" + str(state[2][2]) + \"\\n\"\n",
    "    if state[0] and state[1] and not state[2]:\n",
    "        if len(state[0])>len(state[1]):\n",
    "            string = string + str(state[0][0]) + \"\\n\"\n",
    "            string = string + str(state[0][1]) + \" \" +str(state[1][0]) + \"\\n\"\n",
    "        else:\n",
    "            string = string + \"  \" + str(state[1][0]) + \"\\n\"\n",
    "            string = string + str(state[0][0]) + \" \" +str(state[1][1]) + \"\\n\"\n",
    "    if not state[0] and state[1] and state[2]:\n",
    "        if len(state[1])>len(state[2]):\n",
    "            string = string + \"  \" + str(state[1][0]) + \"\\n\"\n",
    "            string = string + \"  \" + str(state[1][1]) + \" \" +str(state[2][0]) + \"\\n\"\n",
    "        else:\n",
    "            string = string + \"    \" + str(state[2][0]) + \"\\n\"\n",
    "            string = string + \"  \" + str(state[1][0]) + \" \" +str(state[2][1]) + \"\\n\"\n",
    "    if state[0] and not state[1] and state[2]:\n",
    "        if len(state[0])>len(state[2]):\n",
    "            string = string + str(state[0][0]) + \"\\n\"\n",
    "            string = string + str(state[0][1]) + \"    \" +str(state[2][0]) + \"\\n\"\n",
    "        else:\n",
    "            string = string + \"    \" + str(state[2][0]) + \"\\n\"\n",
    "            string = string + str(state[0][0]) + \"   \" +str(state[2][1]) + \"\\n\"\n",
    "                \n",
    "    string = string + \"------\"\n",
    "    print(string)\n",
    "        "
   ]
  },
  {
   "cell_type": "code",
   "execution_count": 509,
   "metadata": {
    "code_folding": [
     0
    ]
   },
   "outputs": [],
   "source": [
    "def validMoves(state):\n",
    "\n",
    "    moves = []\n",
    "    if state[0]:\n",
    "        if state[1]:\n",
    "            if state[0][0]<state[1][0]:\n",
    "                moves.append([1,2])\n",
    "        else:\n",
    "            moves.append([1,2])\n",
    "        \n",
    "        if state[2]:\n",
    "            if state[0][0]<state[2][0]:\n",
    "                moves.append([1,3])\n",
    "        else:\n",
    "            moves.append([1,3])\n",
    "    \n",
    "    if state[1]:\n",
    "        if state[0]:\n",
    "            if state[1][0]<state[0][0]:\n",
    "                moves.append([2,1])\n",
    "        else:\n",
    "            moves.append([2,1])\n",
    "        \n",
    "        if state[2]:\n",
    "            if state[1][0]<state[2][0]:\n",
    "                moves.append([2,3])\n",
    "        else:\n",
    "            moves.append([2,3])\n",
    "            \n",
    "    if state[2]:\n",
    "        if state[1]:\n",
    "            if state[2][0]<state[1][0]:\n",
    "                moves.append([3,2])\n",
    "        else:\n",
    "            moves.append([3,2])\n",
    "        \n",
    "        if state[0]:\n",
    "            if state[2][0]<state[0][0]:\n",
    "                moves.append([3,1])\n",
    "        else:\n",
    "            moves.append([3,1])\n",
    "            \n",
    "    return moves\n",
    "        \n",
    "        "
   ]
  },
  {
   "cell_type": "code",
   "execution_count": 510,
   "metadata": {
    "code_folding": [
     0
    ],
    "collapsed": true
   },
   "outputs": [],
   "source": [
    "def makeMove(state, move):\n",
    "    ring1,ring2 = move\n",
    "    clone = copy.deepcopy(state)\n",
    "    clone[ring2-1].insert(0,clone[ring1-1].pop(0))\n",
    "    return clone"
   ]
  },
  {
   "cell_type": "code",
   "execution_count": 741,
   "metadata": {
    "code_folding": [
     0
    ]
   },
   "outputs": [],
   "source": [
    "def trainQ(nRepetitions, learningRate, epsilonDecayFactor, validMovesF, makeMoveF):\n",
    "    Q={}\n",
    "    outcomes = np.zeros(nRepetitions)\n",
    "    epsilons = np.zeros(nRepetitions)\n",
    "    showMoves = False\n",
    "    \n",
    "    for nGames in range(nRepetitions):\n",
    "        epsilonDecayFactor *= epsilonDecayFactor\n",
    "        epsilons[nGames] = epsilonDecayFactor\n",
    "        step = 0\n",
    "        board = [[1,2,3],[],[]]\n",
    "        done = False\n",
    "    \n",
    "        while not done:        \n",
    "            step += 1\n",
    "            # making a move\n",
    "            move = epsilonGreedy(epsilonDecayFactor, Q, board)\n",
    "            newBoard = makeMoveF(board,move)\n",
    "            if (stateMoveTuple(board,move)) not in Q:\n",
    "                Q[stateMoveTuple(board,move)] = -1  # initial Q value for new board,move\n",
    "                \n",
    "            if winner(newBoard):\n",
    "                # in winning state\n",
    "                Q[stateMoveTuple(board,move)] = -1\n",
    "                done = True\n",
    "                outcomes[nGames] = step\n",
    "            \n",
    "            if step > 1:\n",
    "                Q[stateMoveTuple(boardOld,moveOld)] = Q[stateMoveTuple(boardOld,moveOld)] + learningRate * (-1 + Q[stateMoveTuple(board,move)] - Q[stateMoveTuple(boardOld,moveOld)]) \n",
    "                \n",
    "            boardOld, moveOld = board, move # remember board and move to Q(board,move) can be updated after next steps\n",
    "            board = newBoard\n",
    "    return Q,outcomes\n",
    "    "
   ]
  },
  {
   "cell_type": "code",
   "execution_count": 801,
   "metadata": {
    "collapsed": true
   },
   "outputs": [],
   "source": [
    "def testQ(Q, maxSteps, validMovesF, makeMoveF):\n",
    "    game = [[1,2,3],[],[]]\n",
    "    retVal= [game]\n",
    "    for step in range(maxSteps):\n",
    "        moves = validMoves(game)\n",
    "        Qs = np.array([Q.get((stateMoveTuple(board,m)), 0) for m in moves]) \n",
    "        move = moves[ np.argmax(Qs) ]\n",
    "        game = makeMoveF(game,move)\n",
    "        retVal.append(game)\n",
    "        if winner(game):\n",
    "            return retVal\n",
    "    "
   ]
  },
  {
   "cell_type": "code",
   "execution_count": 793,
   "metadata": {
    "code_folding": []
   },
   "outputs": [],
   "source": [
    "def epsilonGreedy(epsilon, Q, board):\n",
    "    moves = validMoves(board)\n",
    "    index = np.random.randint(len(moves))\n",
    "    if np.random.uniform() < epsilon:\n",
    "        # Random Move\n",
    "        return moves[index]\n",
    "    else:\n",
    "        # Greedy Move\n",
    "        Qs = np.array([Q.get((stateMoveTuple(board,m)), 0) for m in moves]) \n",
    "        return moves[ np.argmax(Qs) ]"
   ]
  },
  {
   "cell_type": "code",
   "execution_count": 794,
   "metadata": {
    "code_folding": [
     0
    ],
    "collapsed": true
   },
   "outputs": [],
   "source": [
    "def stateMoveTuple(state, move):\n",
    "    tuplecopy = state[:]\n",
    "    tuplecopy = tuple(state[0]),tuple(state[1]),tuple(state[2])\n",
    "    return tuple(tuplecopy),tuple(move)"
   ]
  },
  {
   "cell_type": "code",
   "execution_count": 795,
   "metadata": {
    "code_folding": [
     0
    ]
   },
   "outputs": [],
   "source": [
    "def winner(board):\n",
    "    if board == [[],[],[1,2,3]]:\n",
    "        return True\n",
    "    return False"
   ]
  },
  {
   "cell_type": "markdown",
   "metadata": {},
   "source": [
    "# Examples"
   ]
  },
  {
   "cell_type": "code",
   "execution_count": 796,
   "metadata": {},
   "outputs": [],
   "source": [
    "Q, stepsToGoal = trainQ(50, 0.5, 0.7, validMoves, makeMove)"
   ]
  },
  {
   "cell_type": "code",
   "execution_count": 797,
   "metadata": {},
   "outputs": [
    {
     "data": {
      "text/plain": [
       "array([  56.,  104.,   25.,   19.,   70.,    9.,   52.,   10.,   19.,\n",
       "         17.,   59.,    9.,   15.,    9.,   20.,    9.,   25.,   11.,\n",
       "         12.,   11.,    7.,    8.,    7.,    7.,    7.,    7.,    7.,\n",
       "         29.,    7.,    7.,    7.,    7.,    7.,    7.,    7.,    7.,\n",
       "          7.,    7.,    7.,    7.,    7.,    7.,    7.,    7.,    7.,\n",
       "          7.,    7.,    7.,    7.,    7.])"
      ]
     },
     "execution_count": 797,
     "metadata": {},
     "output_type": "execute_result"
    }
   ],
   "source": [
    "stepsToGoal"
   ]
  },
  {
   "cell_type": "code",
   "execution_count": 798,
   "metadata": {},
   "outputs": [
    {
     "data": {
      "text/plain": [
       "[[], [1, 3], [2]]"
      ]
     },
     "execution_count": 798,
     "metadata": {},
     "output_type": "execute_result"
    }
   ],
   "source": [
    "newstate = makeMove(state, move)\n",
    "newstate"
   ]
  },
  {
   "cell_type": "code",
   "execution_count": 799,
   "metadata": {},
   "outputs": [
    {
     "name": "stdout",
     "output_type": "stream",
     "text": [
      "  1\n",
      "  3 2\n",
      "------\n"
     ]
    }
   ],
   "source": [
    "printState(newstate)"
   ]
  },
  {
   "cell_type": "code",
   "execution_count": 802,
   "metadata": {},
   "outputs": [],
   "source": [
    "path = testQ(Q, 20, validMoves, makeMove)"
   ]
  },
  {
   "cell_type": "code",
   "execution_count": 803,
   "metadata": {},
   "outputs": [],
   "source": [
    "path"
   ]
  },
  {
   "cell_type": "code",
   "execution_count": 10,
   "metadata": {},
   "outputs": [
    {
     "name": "stdout",
     "output_type": "stream",
     "text": [
      "1     \n",
      "2     \n",
      "3     \n",
      "------\n",
      "\n",
      "\n",
      "2     \n",
      "3   1 \n",
      "------\n",
      "\n",
      "\n",
      "3 2 1 \n",
      "------\n",
      "\n",
      "\n",
      "  1   \n",
      "3 2   \n",
      "------\n",
      "\n",
      "\n",
      "  1   \n",
      "  2 3 \n",
      "------\n",
      "\n",
      "\n",
      "1 2 3 \n",
      "------\n",
      "\n",
      "\n",
      "    2 \n",
      "1   3 \n",
      "------\n",
      "\n",
      "\n",
      "    1 \n",
      "    2 \n",
      "    3 \n",
      "------\n",
      "\n",
      "\n"
     ]
    }
   ],
   "source": [
    "for s in path:\n",
    "    printState(s)\n",
    "    print()"
   ]
  },
  {
   "cell_type": "markdown",
   "metadata": {},
   "source": [
    "## Grading"
   ]
  },
  {
   "cell_type": "markdown",
   "metadata": {
    "collapsed": true
   },
   "source": [
    "Download and extract `A5grader.py` from [A5grader.tar](http://www.cs.colostate.edu/~anderson/cs440/notebooks/A5grader.tar)."
   ]
  },
  {
   "cell_type": "code",
   "execution_count": 13,
   "metadata": {},
   "outputs": [
    {
     "name": "stdout",
     "output_type": "stream",
     "text": [
      "\n",
      "Testing validMoves([[1], [2], [3]])\n",
      "\n",
      "--- 10/10 points. Correctly returned [[1, 2], [1, 3], [2, 3]]\n",
      "\n",
      "Testing validMoves([[], [], [1, 2, 3]])\n",
      "\n",
      "--- 10/10 points. Correctly returned [[3, 1], [3, 2]]\n",
      "\n",
      "Testing makeMove([[], [], [1, 2, 3]], [3, 2])\n",
      "\n",
      "--- 10/10 points. Correctly returned [[], [1], [2, 3]]\n",
      "\n",
      "Testing makeMove([[2], [3], [1]], [1, 2])\n",
      "\n",
      "--- 10/10 points. Correctly returned [[], [2, 3], [1]]\n",
      "\n",
      "Testing   Q, steps = trainQ(1000, 0.5, 0.7, validMoves, makeMove).\n",
      "\n",
      "--- 10/10 points. Q dictionary has correct number of entries.\n",
      "\n",
      "--- 10/10 points. The mean of the number of steps is 7.402 which is correct.\n",
      "\n",
      "Testing   path = testQ(Q, 20, validMoves, makeMove).\n",
      "\n",
      "--- 20/20 points. Correctly returns path of length 8, less than 10.\n",
      "\n",
      "assign5 Execution Grade is 80/80\n",
      "\n",
      " Remaining 20 points will be based on your text describing the trainQ and test! functions.\n",
      "\n",
      "assign5 FINAL GRADE is __/100\n"
     ]
    }
   ],
   "source": [
    "%run -i A5grader.py"
   ]
  },
  {
   "cell_type": "markdown",
   "metadata": {},
   "source": [
    "## Extra Credit"
   ]
  },
  {
   "cell_type": "markdown",
   "metadata": {},
   "source": [
    "Modify your code to solve the Towers of Hanoi puzzle with 4 disks instead of 3.  Name your functions\n",
    "\n",
    "    - printState_4disk\n",
    "    - validMoves_4disk\n",
    "    - makeMove_4disk\n",
    "\n",
    "Find values for number of repetitions, learning rate, and epsilon decay factor for which trainQ learns a Q function that testQ can use to find the shortest solution path.  Include the output from the successful calls to trainQ and testQ."
   ]
  },
  {
   "cell_type": "code",
   "execution_count": null,
   "metadata": {
    "collapsed": true
   },
   "outputs": [],
   "source": []
  }
 ],
 "metadata": {
  "kernelspec": {
   "display_name": "Python 3",
   "language": "python",
   "name": "python3"
  },
  "language_info": {
   "codemirror_mode": {
    "name": "ipython",
    "version": 3
   },
   "file_extension": ".py",
   "mimetype": "text/x-python",
   "name": "python",
   "nbconvert_exporter": "python",
   "pygments_lexer": "ipython3",
   "version": "3.6.1"
  }
 },
 "nbformat": 4,
 "nbformat_minor": 2
}
