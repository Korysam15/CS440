{
 "cells": [
  {
   "cell_type": "markdown",
   "metadata": {},
   "source": [
    "# Reinforcement Learning Solution to the Towers of Hanoi Puzzle"
   ]
  },
  {
   "cell_type": "markdown",
   "metadata": {},
   "source": [
    "# Jared Zymbaluk"
   ]
  },
  {
   "cell_type": "markdown",
   "metadata": {},
   "source": [
    "### Note:"
   ]
  },
  {
   "cell_type": "markdown",
   "metadata": {},
   "source": [
    "If you wish to plot this data, you can do it with the plot function. Simply call plot with the array that you wish to plot"
   ]
  },
  {
   "cell_type": "markdown",
   "metadata": {},
   "source": [
    "# Functions:"
   ]
  },
  {
   "cell_type": "code",
   "execution_count": 1,
   "metadata": {
    "collapsed": true
   },
   "outputs": [],
   "source": [
    "import numpy as np\n",
    "import matplotlib.pyplot as plt\n",
    "%matplotlib inline\n",
    "import copy"
   ]
  },
  {
   "cell_type": "code",
   "execution_count": 2,
   "metadata": {
    "code_folding": [
     0
    ],
    "collapsed": true
   },
   "outputs": [],
   "source": [
    "def printState(state):\n",
    "    string = \"\"\n",
    "    if state[0] and state[1] and state[2]:\n",
    "        string = string + str(state[0][0]) + \" \" +str(state[1][0]) + \" \"+str(state[2][0]) + \"\\n\"\n",
    "    if state[0] and not state[1] and not state[2]:\n",
    "        string = string + str(state[0][0]) + \"\\n\" +str(state[0][1]) + \"\\n\"+str(state[0][2]) + \"\\n\"\n",
    "    if not state[0] and state[1] and not state[2]:\n",
    "        string = string + \"  \" + str(state[1][0]) + \"\\n\" + \"  \" +str(state[1][1]) + \"\\n\" + \"  \" + str(state[1][2]) + \"\\n\"\n",
    "    if not state[0] and not state[1] and state[2]:\n",
    "        string = string + \"    \" + str(state[2][0]) + \"\\n\" + \"    \" +str(state[2][1]) + \"\\n\" + \"    \" + str(state[2][2]) + \"\\n\"\n",
    "    if state[0] and state[1] and not state[2]:\n",
    "        if len(state[0])>len(state[1]):\n",
    "            string = string + str(state[0][0]) + \"\\n\"\n",
    "            string = string + str(state[0][1]) + \" \" +str(state[1][0]) + \"\\n\"\n",
    "        else:\n",
    "            string = string + \"  \" + str(state[1][0]) + \"\\n\"\n",
    "            string = string + str(state[0][0]) + \" \" +str(state[1][1]) + \"\\n\"\n",
    "    if not state[0] and state[1] and state[2]:\n",
    "        if len(state[1])>len(state[2]):\n",
    "            string = string + \"  \" + str(state[1][0]) + \"\\n\"\n",
    "            string = string + \"  \" + str(state[1][1]) + \" \" +str(state[2][0]) + \"\\n\"\n",
    "        else:\n",
    "            string = string + \"    \" + str(state[2][0]) + \"\\n\"\n",
    "            string = string + \"  \" + str(state[1][0]) + \" \" +str(state[2][1]) + \"\\n\"\n",
    "    if state[0] and not state[1] and state[2]:\n",
    "        if len(state[0])>len(state[2]):\n",
    "            string = string + str(state[0][0]) + \"\\n\"\n",
    "            string = string + str(state[0][1]) + \"    \" +str(state[2][0]) + \"\\n\"\n",
    "        else:\n",
    "            string = string + \"    \" + str(state[2][0]) + \"\\n\"\n",
    "            string = string + str(state[0][0]) + \"   \" +str(state[2][1]) + \"\\n\"\n",
    "                \n",
    "    string = string + \"------\"\n",
    "    print(string)\n",
    "        "
   ]
  },
  {
   "cell_type": "markdown",
   "metadata": {},
   "source": [
    "^Prints representation of hanoi game"
   ]
  },
  {
   "cell_type": "code",
   "execution_count": 3,
   "metadata": {
    "code_folding": [
     0
    ],
    "collapsed": true
   },
   "outputs": [],
   "source": [
    "def validMoves(state):\n",
    "\n",
    "    moves = []\n",
    "    if state[0]:\n",
    "        if state[1]:\n",
    "            if state[0][0]<state[1][0]:\n",
    "                moves.append([1,2])\n",
    "        else:\n",
    "            moves.append([1,2])\n",
    "        \n",
    "        if state[2]:\n",
    "            if state[0][0]<state[2][0]:\n",
    "                moves.append([1,3])\n",
    "        else:\n",
    "            moves.append([1,3])\n",
    "    \n",
    "    if state[1]:\n",
    "        if state[0]:\n",
    "            if state[1][0]<state[0][0]:\n",
    "                moves.append([2,1])\n",
    "        else:\n",
    "            moves.append([2,1])\n",
    "        \n",
    "        if state[2]:\n",
    "            if state[1][0]<state[2][0]:\n",
    "                moves.append([2,3])\n",
    "        else:\n",
    "            moves.append([2,3])\n",
    "            \n",
    "    if state[2]:\n",
    "        if state[1]:\n",
    "            if state[2][0]<state[1][0]:\n",
    "                moves.append([3,2])\n",
    "        else:\n",
    "            moves.append([3,2])\n",
    "        \n",
    "        if state[0]:\n",
    "            if state[2][0]<state[0][0]:\n",
    "                moves.append([3,1])\n",
    "        else:\n",
    "            moves.append([3,1])\n",
    "            \n",
    "    return moves\n",
    "        \n",
    "        "
   ]
  },
  {
   "cell_type": "markdown",
   "metadata": {},
   "source": [
    "^Finds valid moves from state"
   ]
  },
  {
   "cell_type": "code",
   "execution_count": 4,
   "metadata": {
    "code_folding": [
     0
    ],
    "collapsed": true
   },
   "outputs": [],
   "source": [
    "def makeMove(state, move):\n",
    "    ring1,ring2 = move\n",
    "    clone = copy.deepcopy(state)\n",
    "    clone[ring2-1].insert(0,clone[ring1-1].pop(0))\n",
    "    return clone"
   ]
  },
  {
   "cell_type": "markdown",
   "metadata": {},
   "source": [
    "^makes a move"
   ]
  },
  {
   "cell_type": "code",
   "execution_count": 5,
   "metadata": {
    "code_folding": [
     0
    ],
    "collapsed": true
   },
   "outputs": [],
   "source": [
    "def trainQ(nRepetitions, learningRate, epsilonDecayFactor, validMovesF, makeMoveF):\n",
    "    Q={}\n",
    "    outcomes = np.zeros(nRepetitions)\n",
    "    epsilons = np.zeros(nRepetitions)\n",
    "    showMoves = False\n",
    "    \n",
    "    for nGames in range(nRepetitions):\n",
    "        epsilonDecayFactor *= epsilonDecayFactor\n",
    "        epsilons[nGames] = epsilonDecayFactor\n",
    "        step = 0\n",
    "        board = [[1,2,3],[],[]]\n",
    "        done = False\n",
    "    \n",
    "        while not done:        \n",
    "            step += 1\n",
    "            # making a move\n",
    "            move = epsilonGreedy(epsilonDecayFactor, Q, board)\n",
    "            newBoard = makeMoveF(board,move)\n",
    "            if (stateMoveTuple(board,move)) not in Q:\n",
    "                Q[stateMoveTuple(board,move)] = -1  # initial Q value for new board,move\n",
    "                \n",
    "            if winner(newBoard):\n",
    "                # in winning state\n",
    "                Q[stateMoveTuple(board,move)] = -1\n",
    "                done = True\n",
    "                outcomes[nGames] = step\n",
    "            \n",
    "            if step > 1:\n",
    "                Q[stateMoveTuple(boardOld,moveOld)] = Q[stateMoveTuple(boardOld,moveOld)] + learningRate * (-1 + Q[stateMoveTuple(board,move)] - Q[stateMoveTuple(boardOld,moveOld)]) \n",
    "                \n",
    "            boardOld, moveOld = board, move # remember board and move to Q(board,move) can be updated after next steps\n",
    "            board = newBoard\n",
    "    return Q,outcomes\n",
    "    "
   ]
  },
  {
   "cell_type": "markdown",
   "metadata": {},
   "source": [
    "^This function is heavily inspired by Professor Anderson'stic tac toe code. It takes how many times you'd like to play the game, a learning rate, an epsilon, a valid moves function, and a make moves function. How it operates is it starts a game, decides to make a random move, or a greedy move based on the value of epsilon, then updates the dictionary to reflect your new Q value. It repeats this until the goal state is reached. On the next game, the values of moves are kept in the Q dictionary, so the function now has a better idea of what a good move might be. Leading to less moves over time"
   ]
  },
  {
   "cell_type": "code",
   "execution_count": 6,
   "metadata": {
    "code_folding": [
     0
    ],
    "collapsed": true
   },
   "outputs": [],
   "source": [
    "def testQ(Q, maxSteps, validMovesF, makeMoveF):\n",
    "    game = [[1,2,3],[],[]]\n",
    "    retVal= [game]\n",
    "    for step in range(maxSteps):\n",
    "        moves = validMoves(game)\n",
    "        Qs = np.array([Q.get((stateMoveTuple(game,m)), 0) for m in moves]) \n",
    "        move = moves[ np.argmax(Qs) ]\n",
    "        game = makeMoveF(game,move)\n",
    "        retVal.append(game)\n",
    "        if winner(game):\n",
    "            return retVal\n",
    "    "
   ]
  },
  {
   "cell_type": "markdown",
   "metadata": {},
   "source": [
    "^This is a simple function that mimics the behavior of greedy epsilon, in order to find an optimal solution. It starts with a fresh game, and finds the best move out of all the available moves. It continues until the goal state is reached, or the move number is maxed out"
   ]
  },
  {
   "cell_type": "code",
   "execution_count": 7,
   "metadata": {
    "code_folding": [
     0
    ],
    "collapsed": true
   },
   "outputs": [],
   "source": [
    "def epsilonGreedy(epsilon, Q, board):\n",
    "    moves = validMoves(board)\n",
    "    index = np.random.randint(len(moves))\n",
    "    if np.random.uniform() < epsilon:\n",
    "        # Random Move\n",
    "        return moves[index]\n",
    "    else:\n",
    "        # Greedy Move\n",
    "        Qs = np.array([Q.get((stateMoveTuple(board,m)), 0) for m in moves]) \n",
    "        return moves[ np.argmax(Qs) ]"
   ]
  },
  {
   "cell_type": "markdown",
   "metadata": {},
   "source": [
    "^helper function that picks random move, or greedy move"
   ]
  },
  {
   "cell_type": "code",
   "execution_count": 8,
   "metadata": {
    "code_folding": [
     0
    ],
    "collapsed": true
   },
   "outputs": [],
   "source": [
    "def stateMoveTuple(state, move):\n",
    "    tuplecopy = state[:]\n",
    "    tuplecopy = tuple(state[0]),tuple(state[1]),tuple(state[2])\n",
    "    return tuple(tuplecopy),tuple(move)"
   ]
  },
  {
   "cell_type": "markdown",
   "metadata": {},
   "source": [
    "^Converts state and move into tuple"
   ]
  },
  {
   "cell_type": "code",
   "execution_count": 9,
   "metadata": {
    "code_folding": [
     0
    ],
    "collapsed": true
   },
   "outputs": [],
   "source": [
    "def winner(board):\n",
    "    if board == [[],[],[1,2,3]]:\n",
    "        return True\n",
    "    return False"
   ]
  },
  {
   "cell_type": "markdown",
   "metadata": {},
   "source": [
    "^Shows if board is a winning state"
   ]
  },
  {
   "cell_type": "code",
   "execution_count": 10,
   "metadata": {
    "collapsed": true
   },
   "outputs": [],
   "source": [
    "def plot(data):\n",
    "    plt.plot(data)"
   ]
  },
  {
   "cell_type": "markdown",
   "metadata": {},
   "source": [
    "^Plots an array (data)"
   ]
  },
  {
   "cell_type": "markdown",
   "metadata": {},
   "source": [
    "# EXAMPLE:"
   ]
  },
  {
   "cell_type": "code",
   "execution_count": 11,
   "metadata": {},
   "outputs": [],
   "source": [
    "Q, stepsToGoal = trainQ(50, 0.5, 0.7, validMoves, makeMove)"
   ]
  },
  {
   "cell_type": "code",
   "execution_count": 12,
   "metadata": {
    "collapsed": true
   },
   "outputs": [],
   "source": [
    "path = testQ(Q, 20, validMoves, makeMove)"
   ]
  },
  {
   "cell_type": "code",
   "execution_count": 13,
   "metadata": {},
   "outputs": [
    {
     "name": "stdout",
     "output_type": "stream",
     "text": [
      "1\n",
      "2\n",
      "3\n",
      "------\n",
      "\n",
      "2\n",
      "3    1\n",
      "------\n",
      "\n",
      "3 2 1\n",
      "------\n",
      "\n",
      "  1\n",
      "3 2\n",
      "------\n",
      "\n",
      "  1\n",
      "  2 3\n",
      "------\n",
      "\n",
      "1 2 3\n",
      "------\n",
      "\n",
      "    2\n",
      "1   3\n",
      "------\n",
      "\n",
      "    1\n",
      "    2\n",
      "    3\n",
      "------\n",
      "\n"
     ]
    }
   ],
   "source": [
    "for s in path:\n",
    "    printState(s)\n",
    "    print()"
   ]
  },
  {
   "cell_type": "code",
   "execution_count": 14,
   "metadata": {},
   "outputs": [
    {
     "data": {
      "image/png": "[encoded data removed]",
      "text/plain": [
       "<matplotlib.figure.Figure at 0x1d36cc7eef0>"
      ]
     },
     "metadata": {},
     "output_type": "display_data"
    }
   ],
   "source": [
    "plot(stepsToGoal)"
   ]
  }
 ],
 "metadata": {
  "kernelspec": {
   "display_name": "Python 3",
   "language": "python",
   "name": "python3"
  },
  "language_info": {
   "codemirror_mode": {
    "name": "ipython",
    "version": 3
   },
   "file_extension": ".py",
   "mimetype": "text/x-python",
   "name": "python",
   "nbconvert_exporter": "python",
   "pygments_lexer": "ipython3",
   "version": "3.6.1"
  }
 },
 "nbformat": 4,
 "nbformat_minor": 2
}
